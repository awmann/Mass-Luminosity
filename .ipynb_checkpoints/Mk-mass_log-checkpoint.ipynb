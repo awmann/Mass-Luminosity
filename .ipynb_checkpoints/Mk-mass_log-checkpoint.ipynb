{
 "cells": [
  {
   "cell_type": "code",
   "execution_count": 1,
   "metadata": {
    "collapsed": true
   },
   "outputs": [],
   "source": [
    "import emcee\n",
    "import matplotlib\n",
    "import numpy as np\n",
    "import corner\n",
    "import scipy.optimize as op\n",
    "\n",
    "%matplotlib inline  \n",
    "\n",
    "# some important variables\n",
    "g = 6.6743e-8\n",
    "msun = 1.989e33\n",
    "au = 1.496e13\n",
    "pi = 3.14159"
   ]
  },
  {
   "cell_type": "code",
   "execution_count": 2,
   "metadata": {
    "collapsed": true
   },
   "outputs": [],
   "source": [
    "nbin = 55 ## number of binaries in sample\n",
    "nvar = 4\n",
    "\n",
    "## read in delK, parallax\n",
    "delk = np.zeros(nbin)\n",
    "edelk = np.zeros(nbin)\n",
    "plxval = np.zeros(nbin)\n",
    "plxprior = np.zeros(nbin)\n",
    "name = strs = ['']*nbin\n",
    "k = np.zeros(nbin)\n",
    "ek = np.zeros(nbin)\n",
    "f = open('data2.txt','r')\n",
    "header1 = f.readline()\n",
    "i=0\n",
    "for line in f:\n",
    "    line = line.strip()\n",
    "    columns = line.split()\n",
    "    name[i] = columns[0]\n",
    "    delk[i] = float(columns[1])\n",
    "    edelk[i] = float(columns[2])\n",
    "    plxval[i] = float(columns[3])\n",
    "    plxprior[i] = float(columns[4])\n",
    "    k[i] = float(columns[5])\n",
    "    ek[i] = float(columns[6])\n",
    "    i+=1\n",
    "f.close()\n",
    "\n",
    "## now for the sma**3/per**2\n",
    "f = open('fits.txt','r')\n",
    "header1 = f.readline()\n",
    "i=0\n",
    "smaper = np.zeros(nbin)\n",
    "esmaper = np.zeros(nbin)\n",
    "for line in f:\n",
    "    line = line.strip()\n",
    "    columns = line.split()\n",
    "    smaper[i] = float(columns[0])\n",
    "    esmaper[i] = float(columns[1])\n",
    "    i+=1\n",
    "f.close()\n",
    "\n",
    "fluxratio = 10.0**(delk/2.5)\n",
    "del_eps = 2.5*np.log10(1.0+1.0/fluxratio)\n",
    "kp = del_eps+k\n",
    "ks = kp + delk\n",
    "\n",
    "# compute MC errors on Kp, Ks\n",
    "mcsize = 50000\n",
    "ekp = kp*0.\n",
    "eks = ks*0.\n",
    "for i in range(0,len(ks)):\n",
    "    ktmp = k[i]+ek[i]*np.random.standard_normal(mcsize)\n",
    "    deltmp = delk[i]+edelk[i]*np.random.standard_normal(mcsize)\n",
    "    fluxratio = 10.0**(deltmp/2.5)\n",
    "    del_eps = 2.5*np.log10(1.0+1.0/fluxratio)\n",
    "    kpt = del_eps+ktmp\n",
    "    kst = kp[i] + ktmp\n",
    "    ekp[i] = np.std(kpt)\n",
    "    eks[i] = np.std(kst)\n",
    "\n",
    "\n",
    "\n",
    "result_ben = np.array([0.2311,-0.1352, 0.0400, 0.0038, -0.0032]) # benedict fit value\n",
    "result1 = np.array([0.23323026,-0.10887911, 0.019990399, 0.00027286744, -0.00046073982])# Mann fit value\n",
    "result2 = plxval\n",
    "result_delf = [0.001*1.8,0.001*6.12,0.001*13.205,-6.2315*0.001,0.001*0.37529]\n",
    "result3= [-0.63540649,-0.20112103,-0.0057378129,0.0030330083] ## one I measured in IDL\n",
    "result = np.concatenate([result3,result2])"
   ]
  },
  {
   "cell_type": "code",
   "execution_count": 3,
   "metadata": {
    "collapsed": true
   },
   "outputs": [],
   "source": [
    "factor = (au**3.)*((4.0*np.pi**2.)/(g*msun))\n",
    "empmass = factor*smaper/plxval**3\n",
    "e_empmass = empmass*np.sqrt((esmaper/smaper)**2 +9.0*(plxprior/plxval)**2)"
   ]
  },
  {
   "cell_type": "code",
   "execution_count": 4,
   "metadata": {
    "collapsed": false
   },
   "outputs": [
    {
     "name": "stdout",
     "output_type": "stream",
     "text": [
      "PMJ02133+3648 0.245 0.035 0.2603 0.0018 0.687 8.1313 9.6003 0.018 0.018 0.172 0.088 0.4\n",
      "HIP11542   1.457 0.183 1.2990 0.0042 0.324 4.6013 4.8643 0.019 0.018 0.669 0.630 0.9\n",
      "HD239960   0.460 0.011 0.4457 0.0030 0.663 7.1190 8.1570 0.029 0.029 0.276 0.170 1.3\n",
      "HD15285    1.389 0.079 1.3113 0.0042 0.317 4.6580 4.7310 0.020 0.018 0.661 0.650 1.0\n",
      "Gl844      0.871 0.095 0.9164 0.0047 0.518 5.8306 5.9476 0.022 0.021 0.468 0.448 0.5\n",
      "HIP9724    0.514 0.027 0.5575 0.0035 0.623 5.9100 9.2460 0.020 0.020 0.455 0.103 1.6\n",
      "Gl831      0.418 0.003 0.4214 0.0028 0.670 7.1793 8.3793 0.020 0.020 0.268 0.153 0.7\n",
      "Gl804      0.996 0.135 0.9429 0.0046 0.485 5.2621 6.3851 0.017 0.016 0.565 0.378 0.4\n",
      "Gl792      0.356 0.028 0.3148 0.0021 0.670 8.0542 8.6312 0.017 0.016 0.179 0.136 1.5\n",
      "Gl695C     0.868 0.023 0.8412 0.0046 0.545 5.9652 6.2712 0.018 0.016 0.445 0.396 1.2\n",
      "Gl54       0.750 0.010 0.7385 0.0043 0.577 6.1084 6.8054 0.027 0.024 0.422 0.317 1.1\n",
      "Gl494      0.667 0.035 0.6545 0.0035 0.529 5.2580 9.5780 0.016 0.016 0.566 0.089 0.4\n",
      "Gl469      0.504 0.011 0.5297 0.0034 0.641 6.6988 7.8328 0.026 0.026 0.332 0.198 2.2\n",
      "Gl381      0.765 0.082 0.6885 0.0041 0.592 6.2132 7.0552 0.027 0.026 0.405 0.284 0.9\n",
      "Gl330      0.915 0.142 0.8156 0.0044 0.539 5.6626 6.7876 0.023 0.023 0.497 0.319 0.7\n",
      "Gl310      0.778 0.067 0.8689 0.0040 0.465 5.0195 7.2165 0.015 0.015 0.605 0.264 1.3\n",
      "Gl190      0.835 0.053 0.8037 0.0045 0.560 6.1790 6.2870 0.020 0.018 0.410 0.393 0.6\n",
      "Gl125      0.905 0.081 0.9640 0.0046 0.473 5.1694 6.3494 0.017 0.016 0.580 0.384 0.7\n",
      "GJ661      0.594 0.054 0.6602 0.0040 0.606 6.5889 6.8329 0.025 0.023 0.347 0.313 1.2\n",
      "GJ65       0.237 0.005 0.2341 0.0015 0.647 8.9041 9.0151 0.037 0.021 0.120 0.114 0.6\n",
      "GJ600      1.228 0.032 1.2289 0.0045 0.369 4.9445 4.9795 0.025 0.023 0.617 0.612 0.0\n",
      "GJ570B     0.837 0.052 0.9368 0.0046 0.491 5.3249 6.3559 0.230 0.230 0.554 0.383 1.9\n",
      "GJ4287     0.954 0.090 1.1229 0.0046 0.407 4.7979 5.7439 0.027 0.027 0.640 0.483 1.9\n",
      "GJ4210     0.998 0.220 0.7882 0.0043 0.552 5.7831 6.8381 0.024 0.024 0.476 0.312 1.0\n",
      "HIP46706   0.780 0.075 0.8040 0.0045 0.560 6.1677 6.2967 0.022 0.020 0.412 0.392 0.3\n",
      "Gl277      0.710 0.069 0.6930 0.0039 0.566 5.7318 7.7278 0.017 0.017 0.485 0.208 0.2\n",
      "GJ3421     0.248 0.009 0.2533 0.0017 0.654 8.7106 8.8676 0.022 0.021 0.131 0.122 0.5\n",
      "GJ340      1.338 0.200 1.4055 0.0034 0.242 4.3323 4.3563 0.020 0.017 0.704 0.701 0.3\n",
      "GJ234      0.333 0.002 0.3298 0.0023 0.692 7.5886 9.1436 0.016 0.016 0.222 0.108 1.1\n",
      "GJ22A      0.569 0.011 0.5812 0.0036 0.619 6.1864 8.1354 0.023 0.023 0.409 0.172 1.1\n",
      "GJ1210     0.258 0.022 0.2588 0.0017 0.656 8.7019 8.7809 0.026 0.025 0.132 0.127 0.0\n",
      "GJ1081     0.583 0.043 0.5265 0.0034 0.642 6.7787 7.7487 0.028 0.027 0.320 0.206 1.3\n",
      "GJ1005     0.322 0.002 0.3149 0.0022 0.683 7.8094 9.0074 0.016 0.016 0.200 0.114 2.2\n",
      "G132-25    0.179 0.041 0.2440 0.0016 0.651 8.8401 8.8981 0.021 0.019 0.124 0.120 1.6\n",
      "Gl791.2    0.298 0.020 0.2973 0.0021 0.694 7.8095 9.3805 0.024 0.024 0.200 0.097 0.0\n",
      "GJ1038     1.301 0.204 1.2297 0.0045 0.369 4.9270 4.9920 0.022 0.021 0.620 0.610 0.4\n",
      "GJ3454     0.285 0.021 0.3080 0.0021 0.666 8.2329 8.5139 0.021 0.020 0.164 0.144 1.1\n",
      "Gl301B     1.227 0.144 1.1545 0.0047 0.404 4.9203 5.4473 0.027 0.026 0.621 0.533 0.5\n",
      "GJ4024     0.917 0.139 0.8888 0.0046 0.514 5.5041 6.4691 0.019 0.018 0.524 0.365 0.2\n",
      "Gl747      0.429 0.026 0.4407 0.0029 0.659 7.5507 7.6637 0.021 0.020 0.226 0.215 0.4\n",
      "Gl660      0.606 0.053 0.5655 0.0036 0.633 7.0422 7.0812 0.023 0.021 0.285 0.280 0.8\n",
      "GJ3412     0.528 0.007 0.5574 0.0035 0.633 6.5811 7.7211 0.017 0.016 0.349 0.209 3.6\n",
      "GJ748      0.526 0.007 0.5448 0.0035 0.637 6.6328 7.7728 0.026 0.024 0.341 0.204 2.4\n",
      "Gl913      0.890 0.118 0.9050 0.0044 0.491 5.2633 6.6373 0.020 0.020 0.565 0.340 0.1\n",
      "GJ623      0.500 0.005 0.4724 0.0032 0.670 6.4968 9.0678 0.023 0.023 0.361 0.111 5.0\n",
      "GJ1245     0.189 0.001 0.1945 0.0013 0.645 8.8891 10.0361 0.016 0.016 0.121 0.074 2.9\n",
      "Gl473      0.262 0.016 0.2785 0.0018 0.661 8.5808 8.5858 0.022 0.020 0.139 0.139 1.1\n",
      "GJ3010     0.302 0.036 0.3817 0.0025 0.666 7.7860 8.0480 0.025 0.024 0.203 0.179 2.2\n",
      "GJ2060     1.036 0.074 1.0124 0.0047 0.462 5.1581 6.0581 0.021 0.020 0.582 0.430 0.3\n",
      "2M1047+40  0.171 0.012 0.1514 0.0009 0.569 9.8281 10.1171 0.028 0.018 0.080 0.071 1.6\n",
      "2M1847+55  0.185 0.022 0.2215 0.0014 0.641 8.9458 9.2268 0.033 0.020 0.118 0.104 1.6\n",
      "2M2206-20  0.168 0.016 0.1565 0.0009 0.576 9.8520 9.9190 0.028 0.027 0.079 0.077 0.7\n",
      "LHS1901    0.203 0.009 0.2012 0.0013 0.627 9.2492 9.3432 0.018 0.018 0.103 0.098 0.2\n",
      "LP415-20   0.241 0.027 0.1848 0.0011 0.618 9.2288 9.7948 0.023 0.020 0.104 0.081 2.1\n",
      "LS1735+26  0.178 0.008 0.1507 0.0009 0.570 9.7505 10.2405 0.021 0.020 0.083 0.068 3.4\n",
      "1.15459463957\n"
     ]
    }
   ],
   "source": [
    "## this is mostly for checking things are reasonable\n",
    "mka = kp - 5.0*(np.log10(1000.0/plxval)-1.)\n",
    "mkb = ks - 5.0*(np.log10(1000.0/plxval)-1.)\n",
    "a, b, c, d = result3\n",
    "mka_err = 0.02## for now\n",
    "mkb_err = 0.02## for now\n",
    "#mass1 = 10.0**(a + b*(mka-7.5) + c*(mka-7.5)**2 + d*(mka-7.5)**3 + e*(mka-7.5)**4)\n",
    "#mass2 = 10.0**(a + b*(mkb-7.5) + c*(mkb-7.5)**2 + d*(mkb-7.5)**3 + e*(mkb-7.5)**4)\n",
    "#mass1_err = (np.log(10)*(b+2*c*(mka-7.5)+3*d*(mka-7.5)**2+4*e*(mka-7.5)**3))*mass1*mka_err\n",
    "#mass2_err = (np.log(10)*(b+2*c*(mkb-7.5)+3*d*(mkb-7.5)**2+4*e*(mkb-7.5)**3))*mass2*mkb_err\n",
    "mass1 = 10.0**(a + b*(mka-7.5) + c*(mka-7.5)**2 + d*(mka-7.5)**3)\n",
    "mass2 = 10.0**(a + b*(mkb-7.5) + c*(mkb-7.5)**2 + d*(mkb-7.5)**3)\n",
    "mass1_err = (np.log(10)*(b+2*c*(mka-7.5)+3*d*(mka-7.5)**2))*mass1*mka_err\n",
    "mass2_err = (np.log(10)*(b+2*c*(mkb-7.5)+3*d*(mkb-7.5)**2))*mass2*mkb_err\n",
    "\n",
    "model_err = np.sqrt(mass1_err**2+mass2_err**2)\n",
    "model = mass1+mass2\n",
    "\n",
    "#mk1_tmp = mka[0] + mka_err*np.random.standard_normal(50000)#mka[0]+mka_err[0]*\n",
    "#mass1_tmp = a + b*(mk1_tmp-7.5) + c*(mk1_tmp-7.5)**2 + d*(mk1_tmp-7.5)**3 + e*(mk1_tmp-7.5)**4\n",
    "#mk2_tmp = mkb[0] + mkb_err*np.random.standard_normal(50000)#mka[0]+mka_err[0]*\n",
    "#mass2_tmp = a + b*(mk2_tmp-7.5) + c*(mk2_tmp-7.5)**2 + d*(mk2_tmp-7.5)**3 + e*(mk2_tmp-7.5)**4\n",
    "\n",
    "for i in range(0,len(empmass)):\n",
    "    print \"{:10s}\".format(name[i]), \\\n",
    "    \"{0:.3f}\".format(empmass[i]),\"{0:.3f}\".format(e_empmass[i]), \\\n",
    "    \"{0:.4f}\".format(model[i]),\"{0:.4f}\".format(model_err[i]),\"{0:.3f}\".format(100*model_err[i]/model[i]), \\\n",
    "    \"{0:.4f}\".format(mka[i]),\"{0:.4f}\".format(mkb[i]), \\\n",
    "    \"{0:.3f}\".format(ekp[i]),\"{0:.3f}\".format(eks[i]), \\\n",
    "    \"{0:.3f}\".format(mass1[i]),\"{0:.3f}\".format(mass2[i]), \\\n",
    "    \"{0:.1f}\".format(np.abs(empmass[i]-model[i])/np.sqrt(e_empmass[i]**2+model_err[i]**2))   \n",
    "    \n",
    "print np.sum(np.abs(empmass-model)/np.sqrt(e_empmass**2+model_err**2))/empmass.size"
   ]
  },
  {
   "cell_type": "code",
   "execution_count": 5,
   "metadata": {
    "collapsed": true
   },
   "outputs": [],
   "source": [
    "def lnlike(theta, smaper, esmaper, kp, ks, ekp, eks):\n",
    "    zp = 7.5e0\n",
    "    au = 1.496e13\n",
    "    msun = 1.989e33\n",
    "    g = 6.6743e-8 \n",
    "    a, b, c, d = theta[0:4]\n",
    "    mplx = theta[4:theta.size]\n",
    "    if np.min(mplx) <= 0:\n",
    "        return -np.inf\n",
    "    factor = (au**3.)*((4.0*np.pi**2.)/(g*msun))\n",
    "    empmass = factor*smaper/mplx**3\n",
    "    #e_empmass = empmass*np.sqrt((esmaper/smaper)**2 +9.*(plxprior/plxval)**2)\n",
    "    e_empmass = empmass*(esmaper/smaper)**2\n",
    "    mka = kp - 5.0*(np.log10(1000.0/mplx)-1.)\n",
    "    mkb = ks - 5.0*(np.log10(1000.0/mplx)-1.)\n",
    "    mka-=zp\n",
    "    mkb-=zp\n",
    "    #mass1 = 10.0**(a + b*mka + c*mka**2. + d*mka**3. + e*mka**4.)\n",
    "    #mass2 = 10.0**(a + b*mkb + c*mkb**2. + d*mkb**3. + e*mkb**4.)\n",
    "    mass1 = 10.0**(a + b*mka + c*mka**2. + d*mka**3.)\n",
    "    mass2 = 10.0**(a + b*mkb + c*mkb**2. + d*mkb**3.)\n",
    "    if np.min(mass1) <= 0 or np.min(mass2) <= 0:\n",
    "        return -np.inf\n",
    "    mka_err = ekp\n",
    "    mkb_err = eks\n",
    "    #mass1_err = np.abs((np.log(10.)*(b+2.*c*mka+3.*d*mka**2+4.*e*mka**3.))*mass1*mka_err)\n",
    "    #mass2_err = np.abs((np.log(10.)*(b+2.*c*mkb+3.*d*mkb**2+4.*e*mkb**3.))*mass2*mkb_err)\n",
    "    mass1_err = np.abs((np.log(10.)*(b+2.*c*mka+3.*d*mka**2))*mass1*mka_err)\n",
    "    mass2_err = np.abs((np.log(10.)*(b+2.*c*mkb+3.*d*mkb**2))*mass2*mkb_err)\n",
    "    model_err = np.sqrt(mass1_err**2+mass2_err**2)\n",
    "    model = mass1+mass2\n",
    "    inv_sigma2 = 1.0/np.sqrt(e_empmass**2+model_err**2)\n",
    "    return -0.5*(np.sum((empmass-model)**2*inv_sigma2 - np.log(inv_sigma2)))"
   ]
  },
  {
   "cell_type": "code",
   "execution_count": 6,
   "metadata": {
    "collapsed": true
   },
   "outputs": [],
   "source": [
    "def lnprior(theta, plxval, plxprior):\n",
    "    mplx = theta[4:theta.size]\n",
    "    lp = 0\n",
    "    if np.min(mplx) <= 0:\n",
    "        return -np.inf\n",
    "    for i in range(0,len(mplx)):\n",
    "        lp += ((np.float(mplx[i])-np.float(plxval[i]))**2)/(np.float(plxprior[i])**2)\n",
    "    lp*=(-0.5)\n",
    "    if not np.isfinite(lp):\n",
    "        return 0.0\n",
    "    return lp"
   ]
  },
  {
   "cell_type": "code",
   "execution_count": 7,
   "metadata": {
    "collapsed": true
   },
   "outputs": [],
   "source": [
    "def lnprob(theta, plxval, plxprior, smaper, esmaper, kp, ks, ekp, eks):\n",
    "    lp = lnprior(theta, plxval, plxprior)\n",
    "    if not np.isfinite(lp):\n",
    "        return -np.inf\n",
    "    like = lnlike(theta, smaper, esmaper, kp, ks, ekp, eks)\n",
    "    if not np.isfinite(like):\n",
    "        return -np.inf\n",
    "    val = lp + like\n",
    "    return val"
   ]
  },
  {
   "cell_type": "code",
   "execution_count": 8,
   "metadata": {
    "collapsed": false
   },
   "outputs": [
    {
     "name": "stdout",
     "output_type": "stream",
     "text": [
      "Finished burn/test phase\n",
      "[ -6.34692445e-01  -1.99875625e-01  -5.59114309e-03   2.90108310e-03\n",
      "   7.44075148e+01   3.90139259e+01   2.49088051e+02   5.96266210e+01\n",
      "   6.30710166e+01   1.09485454e+02   1.25110988e+02   4.90961737e+01\n",
      "   6.83377572e+01   1.20296302e+02   1.26937871e+02   8.88587242e+01\n",
      "   7.57820065e+01   8.32898102e+01   5.95126049e+01   7.43821261e+01\n",
      "   1.07241476e+02   6.40602755e+01   1.78144682e+02   3.71939801e+02\n",
      "   4.77627920e+01   1.71120529e+02   4.81177933e+01   4.09139859e+01\n",
      "   1.00899785e+02   8.66883471e+01   1.13445198e+02   5.83072739e+01\n",
      "   2.41397948e+02   9.98391037e+01   8.48855105e+01   6.57697421e+01\n",
      "   1.66225700e+02   5.61682146e+01   1.13320242e+02   4.03984930e+01\n",
      "   1.15072841e+02   5.17542456e+01   5.23384639e+01   1.24793427e+02\n",
      "   8.51686283e+01   9.51812461e+01   9.81064706e+01   6.90207902e+01\n",
      "   1.24776864e+02   2.19706299e+02   2.20502319e+02   6.52599320e+01\n",
      "   6.38302153e+01   3.85856398e+01   3.08340553e+01   3.82504253e+01\n",
      "   7.56519046e+01   2.58827489e+01   6.29798036e+01]\n"
     ]
    }
   ],
   "source": [
    "ndim, nwalkers = result.size, 500\n",
    "pos = [result + 1e-2*result*np.random.randn(ndim) for i in range(nwalkers)]\n",
    "sampler = emcee.EnsembleSampler(nwalkers, ndim, lnprob, \n",
    "                                args=(plxval, plxprior, smaper, esmaper, kp, ks, ekp, eks),\n",
    "                               threads=6)\n",
    "## burn-in and/or testing\n",
    "smallstep = 5000\n",
    "#thin = 1\n",
    "pos, prob, state = sampler.run_mcmc(pos, smallstep)\n",
    "sampler.reset()\n",
    "#print 'Finished burn/test phase'\n",
    "#print pos[0]"
   ]
  },
  {
   "cell_type": "code",
   "execution_count": null,
   "metadata": {
    "collapsed": false
   },
   "outputs": [],
   "source": [
    "#print pos[0]\n",
    "#print plxval\n",
    "#print plxprior\n",
    "#dat = sampler.chain\n",
    "#arr = dat.reshape(nwalkers*smallstep/thin,nvar+nbin)\n",
    "#print arr.shape\n",
    "#print arr[0:100,4]"
   ]
  },
  {
   "cell_type": "code",
   "execution_count": null,
   "metadata": {
    "collapsed": false,
    "scrolled": true
   },
   "outputs": [
    {
     "name": "stdout",
     "output_type": "stream",
     "text": [
      "Starting run!\n"
     ]
    }
   ],
   "source": [
    "import time\n",
    "start_time = time.time()\n",
    "nsteps = 100000\n",
    "thin = 50\n",
    "kwargs = {'thin': thin }\n",
    "print 'Starting run!'\n",
    "for i, result in enumerate(sampler.sample(pos, iterations=nsteps, **kwargs)):\n",
    "    if (i+1) % 5000 == 0:\n",
    "        print(\"{0:5.1%}\".format(float(i) / nsteps)),\n",
    "        (\"{0:5.2%}\".format((time.time() - start_time)/60))\n",
    "print 'Done, runtime:'\n",
    "print (time.time() - start_time)/60\n",
    "print(\"Mean acceptance fraction: {0:.3f}\".format(np.mean(sampler.acceptance_fraction)))"
   ]
  },
  {
   "cell_type": "code",
   "execution_count": null,
   "metadata": {
    "collapsed": false
   },
   "outputs": [],
   "source": [
    "#print dat.shape,nwalkers,nsteps,thin\n",
    "import corner\n",
    "from matplotlib.backends.backend_pdf import PdfPages\n",
    "dat = sampler.flatchain#chain\n",
    "like = sampler.flatlnprobability\n",
    "arr = dat\n",
    "#print dat.shape,dat.size\n",
    "#print dat.reshape(dat.size)\n",
    "#arr = dat.reshape(nwalkers*nsteps/thin,4+nbin)\n",
    "\n",
    "#fig = corner.corner(arr[:,0:5], labels=['a',r'b','c',r'd',r'e'], show_titles=True, title_kwargs={\"fontsize\": 11},title_fmt='.4f')\n",
    "fig = corner.corner(arr[:,0:4], labels=['a',r'b','c',r'd'], show_titles=True, title_kwargs={\"fontsize\": 11},title_fmt='.4f')\n",
    "pp = PdfPages('output_params_log.pdf')\n",
    "pp.savefig(fig)\n",
    "pp.close()"
   ]
  },
  {
   "cell_type": "code",
   "execution_count": null,
   "metadata": {
    "collapsed": false
   },
   "outputs": [],
   "source": [
    "#print dat.shape,nwalkers,nsteps,thin\n",
    "#print like.shape,arr.shape\n",
    "#best = (like == max(like))\n",
    "#worst = (like == min(like))\n",
    "#print like[best],like[worst]\n",
    "#a = arr[best,0]#np.median(arr[:,0])\n",
    "#b = arr[best,1]#np.median(arr[:,1])\n",
    "#c = arr[best,2]#np.median(arr[:,2])\n",
    "#d = arr[best,3]#np.median(arr[:,3])\n",
    "#e = np.median(arr[:,4])\n",
    "#print a,b,c,d,e\n",
    "#print a,b,c,d\n",
    "#tmp = arr[best,0:]\n",
    "#tmp = tmp[0,0:]\n",
    "#like = lnlike(tmp[0:], smaper, esmaper, kp, ks, ekp, eks)\n",
    "#like = lnprob(arr[best,0:], plxval, plxprior, smaper, esmaper, kp, ks, ekp, eks)\n",
    "au = 1.496e13\n",
    "msun = 1.989e33\n",
    "g = 6.6743e-8 \n",
    "mplx = plxval\n",
    "factor = (au**3.)*((4.0*np.pi**2.)/(g*msun))\n",
    "empmass = factor*smaper/mplx**3\n",
    "e_empmass = empmass*(esmaper/smaper)**2\n",
    "mka = kp - 5.0*(np.log10(1000.0/mplx)-1.)\n",
    "mkb = ks - 5.0*(np.log10(1000.0/mplx)-1.)\n",
    "mass1 = 10.0**(a + b*mka + c*mka**2. + d*mka**3.)\n",
    "mass2 = 10.0**(a + b*mkb + c*mkb**2. + d*mkb**3.)\n",
    "mka_err = ekp\n",
    "mkb_err = eks\n",
    "mass1_err = np.abs((np.log(10.)*(b+2.*c*mka+3.*d*mka**2))*mass1*mka_err)\n",
    "mass2_err = np.abs((np.log(10.)*(b+2.*c*mkb+3.*d*mkb**2))*mass2*mkb_err)\n",
    "model_err = np.sqrt(mass1_err**2+mass2_err**2)\n",
    "model = mass1+mass2\n",
    "inv_sigma2 = 1.0/np.sqrt(e_empmass**2+model_err**2)\n",
    "print mass1\n",
    "print mka"
   ]
  },
  {
   "cell_type": "code",
   "execution_count": null,
   "metadata": {
    "collapsed": false
   },
   "outputs": [],
   "source": [
    "dat = sampler.chain\n",
    "prob = sampler.lnprobability\n",
    "accept = sampler.acceptance_fraction\n",
    "arr = dat.reshape((dat.shape)[0]*(dat.shape)[1],dat.shape[2])\n",
    "print 'name plx_mcmc plx_err_mcmc plxinput plx_prior diff_sig1 diff_sig2'\n",
    "for i in range(nvar,dat.shape[2]):\n",
    "    print \"{:10s}\".format(name[i-nvar]), \\\n",
    "    \"{0:.4f}\".format(np.median(arr[:,i])),\"{0:.4f}\".format(np.std(arr[:,i])),\"{0:.4f}\".format(plxprior[i-nvar]), \\\n",
    "    \"{0:.4f}\".format(plxval[i-nvar]),\"{0:.4f}\".format((plxval[i-nvar]-np.median(arr[:,i]))/plxprior[i-nvar]), \\\n",
    "    \"{0:.4f}\".format((plxval[i-nvar]-np.median(arr[:,i]))/np.sqrt(plxprior[i-nvar]**2+np.std(arr[:,i])**2))\n",
    "    "
   ]
  },
  {
   "cell_type": "code",
   "execution_count": null,
   "metadata": {
    "collapsed": false
   },
   "outputs": [],
   "source": [
    "factor = (au**3.)*((4.0*np.pi**2.)/(g*msun))\n",
    "mass = factor*smaper/plxval**3\n",
    "#e_empmass = empmass*np.sqrt((esmaper/smaper)**2 +9.0*(plxprior/plxval)**2)\n",
    "#sma_au = sma*au*(1000/plxval)\n",
    "#mass = (4.*(pi**2.))*((sma_au**3./per**2.)/g)/msun\n",
    "\n",
    "mka = kp - 5.0*(np.log10(1000.0/plxval)-1.)\n",
    "mkb = ks - 5.0*(np.log10(1000.0/plxval)-1.)\n",
    "\n",
    "a = arr[best,0]#np.median(arr[:,0])\n",
    "b = arr[best,1]#np.median(arr[:,1])\n",
    "c = arr[best,2]#np.median(arr[:,2])\n",
    "d = arr[best,3]#np.median(arr[:,3])\n",
    "#e = np.median(arr[:,4])\n",
    "#print a,b,c,d,e\n",
    "print a,b,c,d\n",
    "#mass1 = a + b*(mka-7.5) + c*(mka-7.5)**2 + d*(mka-7.5)**3 + e*(mka-7.5)**4\n",
    "#mass2 = a + b*(mkb-7.5) + c*(mkb-7.5)**2 + d*(mkb-7.5)**3 + e*(mkb-7.5)**4\n",
    "#mass1 = 10.0**(a + b*mka + c*mka**2 + d*mka**3 + e*mka**4)\n",
    "#mass2 = 10.0**(a + b*mkb + c*mkb**2 + d*mkb**3 + e*mkb**4)\n",
    "mass1 = 10.0**(a + b*mka + c*mka**2 + d*mka**3)\n",
    "mass2 = 10.0**(a + b*mkb + c*mkb**2 + d*mkb**3)\n",
    "sysmass = mass1+mass2\n",
    "a, b, c, d, e = result1\n",
    "mass1 = a + b*(mka-7.5) + c*(mka-7.5)**2 + d*(mka-7.5)**3 + e*(mka-7.5)**4\n",
    "mass2 = a + b*(mkb-7.5) + c*(mkb-7.5)**2 + d*(mkb-7.5)**3 + e*(mkb-7.5)**4\n",
    "sysmass_mann = mass1+mass2\n",
    "a, b, c, d, e = result_ben\n",
    "mass1 = a + b*(mka-7.5) + c*(mka-7.5)**2 + d*(mka-7.5)**3 + e*(mka-7.5)**4\n",
    "mass2 = a + b*(mkb-7.5) + c*(mkb-7.5)**2 + d*(mkb-7.5)**3 + e*(mkb-7.5)**4\n",
    "sysmass_ben = mass1+mass2"
   ]
  },
  {
   "cell_type": "code",
   "execution_count": null,
   "metadata": {
    "collapsed": false
   },
   "outputs": [],
   "source": [
    "import matplotlib.pyplot as plt\n",
    "\n",
    "rng = [np.min(np.concatenate([sysmass,sysmass_ben,mass])),\n",
    "         np.max(np.concatenate([sysmass,sysmass_ben,mass]))]\n",
    "plt.figure()\n",
    "plt.plot(sysmass,mass,'ro')\n",
    "plt.ylabel('Orbital Mass')\n",
    "plt.xlabel('Predicted')\n",
    "plt.plot(sysmass_ben,mass,'ro',color='b')\n",
    "plt.plot(rng,rng)\n",
    "plt.plot(sysmass_mann,mass,'ro',color='g')\n",
    "plt.plot(rng,rng)\n",
    "## blue = benedict\n",
    "## green = mann idl\n",
    "## red = python"
   ]
  },
  {
   "cell_type": "code",
   "execution_count": null,
   "metadata": {
    "collapsed": false
   },
   "outputs": [],
   "source": [
    "#num = 7\n",
    "#plt.plot(dat[2,:,num])\n",
    "#print np.median(arr[:,num]),plxval[num-5]\n",
    "newprob = prob.reshape((prob.shape)[0]*(dat.shape)[1])\n",
    "print newprob.shape,arr[:,0].shape\n",
    "n, bins, patches = plt.hist(newprob[np.isfinite(newprob)], 50, range=[10,45],normed=1, facecolor='green', alpha=0.75)\n",
    "plt.show()"
   ]
  },
  {
   "cell_type": "code",
   "execution_count": null,
   "metadata": {
    "collapsed": true
   },
   "outputs": [],
   "source": [
    "a = np.median(arr[np.isfinite(newprob),0])\n",
    "b = np.median(arr[np.isfinite(newprob),1])\n",
    "c = np.median(arr[np.isfinite(newprob),2])\n",
    "d = np.median(arr[np.isfinite(newprob),3])\n",
    "#e = np.median(arr[np.isfinite(newprob),4])\n",
    "print np.median(a),np.median(b),np.median(c),np.median(d)#,np.median(e)\n",
    "\n",
    "rng = [np.min(np.concatenate([mka,mkb])),np.max(np.concatenate([mka,mkb]))]\n",
    "print rng\n",
    "mk = np.linspace(rng[0],rng[1],100)\n",
    "mass1 = 10.0**(a + b*mka + c*mka**2 + d*mka**3)# + e*mka**4)\n",
    "a, b, c, d, e = result1\n",
    "mass2 = a + b*(mk-7.5) + c*(mk-7.5)**2 + d*(mk-7.5)**3 + e*(mk-7.5)**4\n",
    "mass3 = 0.585825902+3.87151019e-1*mk-1.21729937e-1*mk**2.+1.05529583e-2*mk**3.-2.72615872e-4*mk**4.\n",
    "\n",
    "## red = new fit\n",
    "## blue = Benedict\n",
    "## green = How to constrain your M dwarf\n",
    "plt.plot(mk,mass1,color='r')\n",
    "plt.plot(mk,mass2,color='b')\n",
    "plt.plot(mk,mass3,color='g')\n",
    "\n",
    "\n",
    "for i in range(0,60):\n",
    "    index = np.random.randint(len(arr[:,0]))\n",
    "    if np.isfinite(newprob[index]):\n",
    "        a, b, c, d, e = arr[index,0:5]\n",
    "        #mass = a + b*(mk-7.5) + c*(mk-7.5)**2 + d*(mk-7.5)**3 + e*(mk-7.5)**4\n",
    "        mass = 10.0**(a + b*mka + c*mka**2 + d*mka**3)# + e*mka**4)\n",
    "        plt.plot(mk,mass,color='r',lw=2,alpha=0.1)\n",
    "\n",
    "plt.plot(mk,mass1,color='r')\n",
    "plt.plot(mk,mass2,color='b')\n",
    "plt.plot(mk,mass3,color='g')\n",
    "\n",
    "plt.show()\n"
   ]
  },
  {
   "cell_type": "code",
   "execution_count": null,
   "metadata": {
    "collapsed": true
   },
   "outputs": [],
   "source": [
    "## save out the relevant chains\n",
    "import pyfits\n",
    "pyfits.writeto('Mk-Mass_log_emcee.fits', sampler.chain, clobber=True)\n",
    "pyfits.writeto('Mk-Mass_log_emcee_accept.fits', sampler.acceptance_fraction, clobber=True)\n",
    "pyfits.writeto('Mk-Mass_log_emcee_lnprob.fits', sampler.lnprobability, clobber=True)\n",
    "pyfits.writeto('Mk-Mass_log_emcee_acor.fits', sampler.acor, clobber=True)"
   ]
  },
  {
   "cell_type": "code",
   "execution_count": null,
   "metadata": {
    "collapsed": true
   },
   "outputs": [],
   "source": []
  },
  {
   "cell_type": "code",
   "execution_count": null,
   "metadata": {
    "collapsed": true
   },
   "outputs": [],
   "source": []
  },
  {
   "cell_type": "code",
   "execution_count": null,
   "metadata": {
    "collapsed": true
   },
   "outputs": [],
   "source": []
  }
 ],
 "metadata": {
  "anaconda-cloud": {},
  "kernelspec": {
   "display_name": "Python [Root]",
   "language": "python",
   "name": "Python [Root]"
  },
  "language_info": {
   "codemirror_mode": {
    "name": "ipython",
    "version": 2
   },
   "file_extension": ".py",
   "mimetype": "text/x-python",
   "name": "python",
   "nbconvert_exporter": "python",
   "pygments_lexer": "ipython2",
   "version": "2.7.12"
  }
 },
 "nbformat": 4,
 "nbformat_minor": 1
}
