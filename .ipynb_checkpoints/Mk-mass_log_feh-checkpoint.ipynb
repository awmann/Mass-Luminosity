{
 "cells": [
  {
   "cell_type": "code",
   "execution_count": null,
   "metadata": {
    "collapsed": true
   },
   "outputs": [],
   "source": [
    "import emcee\n",
    "import matplotlib\n",
    "import numpy as np\n",
    "import corner\n",
    "import scipy.optimize as op\n",
    "\n",
    "%matplotlib inline  \n",
    "\n",
    "# some important variables\n",
    "g = 6.6743e-8\n",
    "msun = 1.989e33\n",
    "au = 1.496e13\n",
    "pi = 3.14159"
   ]
  },
  {
   "cell_type": "code",
   "execution_count": null,
   "metadata": {
    "collapsed": false
   },
   "outputs": [],
   "source": [
    "nbin = 58 ## number of binaries in sample\n",
    "nvar = 6\n",
    "\n",
    "## read in delK, parallax\n",
    "delk = np.zeros(nbin)\n",
    "edelk = np.zeros(nbin)\n",
    "plxval = np.zeros(nbin)\n",
    "plxprior = np.zeros(nbin)\n",
    "name = strs = ['']*nbin\n",
    "k = np.zeros(nbin)\n",
    "ek = np.zeros(nbin)\n",
    "feh = np.zeros(nbin)\n",
    "f = open('data2.txt','r')\n",
    "header1 = f.readline()\n",
    "i=0\n",
    "for line in f:\n",
    "    line = line.strip()\n",
    "    columns = line.split()\n",
    "    name[i] = columns[0]\n",
    "    delk[i] = float(columns[1])\n",
    "    edelk[i] = float(columns[2])\n",
    "    plxval[i] = float(columns[3])\n",
    "    plxprior[i] = float(columns[4])\n",
    "    k[i] = float(columns[5])\n",
    "    ek[i] = float(columns[6])\n",
    "    feh[i] = float(columns[8])\n",
    "    i+=1\n",
    "f.close()\n",
    "\n",
    "## now for the sma**3/per**2\n",
    "f = open('fits.txt','r')\n",
    "header1 = f.readline()\n",
    "i=0\n",
    "smaper = np.zeros(nbin)\n",
    "esmaper = np.zeros(nbin)\n",
    "for line in f:\n",
    "    line = line.strip()\n",
    "    columns = line.split()\n",
    "    smaper[i] = float(columns[0])\n",
    "    esmaper[i] = float(columns[1])\n",
    "    i+=1\n",
    "f.close()\n",
    "\n",
    "fluxratio = 10.0**(delk/2.5)\n",
    "del_eps = 2.5*np.log10(1.0+1.0/fluxratio)\n",
    "kp = del_eps+k\n",
    "ks = kp + delk\n",
    "\n",
    "# compute MC errors on Kp, Ks\n",
    "mcsize = 50000\n",
    "ekp = kp*0.\n",
    "eks = ks*0.\n",
    "for i in range(0,len(ks)):\n",
    "    ktmp = k[i]+ek[i]*np.random.standard_normal(mcsize)\n",
    "    deltmp = delk[i]+edelk[i]*np.random.standard_normal(mcsize)\n",
    "    fluxratio = 10.0**(deltmp/2.5)\n",
    "    del_eps = 2.5*np.log10(1.0+1.0/fluxratio)\n",
    "    kpt = del_eps+ktmp\n",
    "    kst = kp[i] + ktmp\n",
    "    ekp[i] = np.std(kpt)\n",
    "    eks[i] = np.std(kst)\n",
    "\n",
    "\n",
    "result_ben = np.array([0.2311,-0.1352, 0.0400, 0.0038, -0.0032]) # benedict fit value\n",
    "result1 = np.array([0.23323026,-0.10887911, 0.019990399, 0.00027286744, -0.00046073982])# Mann fit value\n",
    "result2 = plxval\n",
    "result_delf = [0.001*1.8,0.001*6.12,0.001*13.205,-6.2315*0.001,0.001*0.37529]\n",
    "result3= np.array([-0.663541,-0.212175 , 0.00594868 ,  0.00641549, -0.000416446]) ## one I measured in IDL\n",
    "fehcoeff = np.array([0.01])\n",
    "result = np.concatenate([result3,fehcoeff,result2])\n"
   ]
  },
  {
   "cell_type": "code",
   "execution_count": null,
   "metadata": {
    "collapsed": false
   },
   "outputs": [],
   "source": [
    "factor = (au**3.)*((4.0*np.pi**2.)/(g*msun))\n",
    "empmass = factor*smaper/plxval**3\n",
    "e_empmass = empmass*np.sqrt((esmaper/smaper)**2 +9.0*(plxprior/plxval)**2)"
   ]
  },
  {
   "cell_type": "code",
   "execution_count": null,
   "metadata": {
    "collapsed": false,
    "scrolled": true
   },
   "outputs": [],
   "source": [
    "## this is mostly for checking things are reasonable\n",
    "mka = kp - 5.0*(np.log10(1000.0/plxval)-1.)\n",
    "mkb = ks - 5.0*(np.log10(1000.0/plxval)-1.)\n",
    "a, b, c, d, e = result3\n",
    "mka_err = 0.02## for now\n",
    "mkb_err = 0.02## for now\n",
    "mass1 = 10.0**(a + b*(mka-7.5) + c*(mka-7.5)**2 + d*(mka-7.5)**3 + e*(mka-7.5)**4)\n",
    "mass2 = 10.0**(a + b*(mkb-7.5) + c*(mkb-7.5)**2 + d*(mkb-7.5)**3 + e*(mkb-7.5)**4)\n",
    "mass1_err = (np.log(10)*(b+2*c*(mka-7.5)+3*d*(mka-7.5)**2+4*e*(mka-7.5)**3))*mass1*mka_err\n",
    "mass2_err = (np.log(10)*(b+2*c*(mkb-7.5)+3*d*(mkb-7.5)**2+4*e*(mkb-7.5)**3))*mass2*mkb_err\n",
    "#mass1 = 10.0**(a + b*(mka-7.5) + c*(mka-7.5)**2 + d*(mka-7.5)**3)\n",
    "#mass2 = 10.0**(a + b*(mkb-7.5) + c*(mkb-7.5)**2 + d*(mkb-7.5)**3)\n",
    "#mass1_err = (np.log(10)*(b+2*c*(mka-7.5)+3*d*(mka-7.5)**2))*mass1*mka_err\n",
    "#mass2_err = (np.log(10)*(b+2*c*(mkb-7.5)+3*d*(mkb-7.5)**2))*mass2*mkb_err\n",
    "\n",
    "model_err = np.sqrt(mass1_err**2+mass2_err**2)\n",
    "model_err2 = np.sqrt(mass1_err**2+mass2_err**2)#+(scat*mass1)**2+(scat*mass2)**2 )\n",
    "model = mass1+mass2\n",
    "\n",
    "for i in range(0,len(empmass)):\n",
    "    print \"{:10s}\".format(name[i]), \\\n",
    "    \"{0:.3f}\".format(empmass[i]),\"{0:.3f}\".format(e_empmass[i]), \\\n",
    "    \"{0:.4f}\".format(model[i]),\"{0:.4f}\".format(model_err[i]),\"{0:.3f}\".format(100*model_err[i]/model[i]), \\\n",
    "    \"{0:.4f}\".format(mka[i]),\"{0:.4f}\".format(mkb[i]), \\\n",
    "    \"{0:.3f}\".format(ekp[i]),\"{0:.3f}\".format(eks[i]), \\\n",
    "    \"{0:.3f}\".format(mass1[i]),\"{0:.3f}\".format(mass2[i]), \\\n",
    "    \"{0:.1f}\".format(np.abs(empmass[i]-model[i])/np.sqrt(e_empmass[i]**2+model_err[i]**2)), \\\n",
    "    \"{0:.2f}\".format(feh[i])\n",
    "    \n",
    "print np.sum((empmass-model)**2/(e_empmass**2+model_err**2))/(empmass.size-5.)\n",
    "print np.sum((empmass-model)**2/(e_empmass**2+model_err2**2 ))/(empmass.size-5.)"
   ]
  },
  {
   "cell_type": "code",
   "execution_count": null,
   "metadata": {
    "collapsed": true
   },
   "outputs": [],
   "source": [
    "def lnlike(theta, smaper, esmaper, kp, ks, ekp, eks, feh, nvar):\n",
    "    zp = 7.5e0\n",
    "    au = 1.496e13\n",
    "    msun = 1.989e33\n",
    "    g = 6.6743e-8 \n",
    "    a, b, c, d, e, f = theta[0:nvar]\n",
    "    mplx = theta[nvar:theta.size]\n",
    "    if np.min(mplx) <= 0:\n",
    "        return -np.inf\n",
    "    factor = (au**3.)*((4.0*np.pi**2.)/(g*msun))\n",
    "    empmass = factor*smaper/mplx**3\n",
    "    e_empmass = empmass*(esmaper/smaper)**2\n",
    "    mka = kp - 5.0*(np.log10(1000.0/mplx)-1.)\n",
    "    mkb = ks - 5.0*(np.log10(1000.0/mplx)-1.)\n",
    "    mka -= zp\n",
    "    mkb -= zp\n",
    "    mass1 = (10.0**(a + b*mka + c*mka**2. + d*mka**3. + e*mka**4.))*(1+f*feh)\n",
    "    mass2 = (10.0**(a + b*mkb + c*mkb**2. + d*mkb**3. + e*mkb**4.))*(1+f*feh)\n",
    "    if np.min(mass1) <= 0 or np.min(mass2) <= 0:\n",
    "        return -np.inf\n",
    "    \n",
    "    ## this is where we check to see if the relation always does brighter=higher mass (if not return -np.inf)\n",
    "    rng = [np.min(np.concatenate([mka,mkb])),np.max(np.concatenate([mka,mkb]))]\n",
    "    mk = np.linspace(rng[0],rng[1],50)\n",
    "    l = 10.0**(a + b*mk + c*mk**2. + d*mk**3. + e*mk**4.)\n",
    "    check = all(l[i] >= l[i+1] for i in xrange(len(l)-1))\n",
    "    if not check:\n",
    "        return -np.inf\n",
    "    ## there's a better way to do this... probably to check to see if the slope goes negative\n",
    "\n",
    "    mka_err = ekp\n",
    "    mkb_err = eks\n",
    "    mass1_err = np.abs((np.log(10.)*(b+2.*c*mka+3.*d*mka**2+4.*e*mka**3.))*mass1*mka_err)\n",
    "    mass2_err = np.abs((np.log(10.)*(b+2.*c*mkb+3.*d*mkb**2+4.*e*mkb**3.))*mass2*mkb_err)\n",
    "    \n",
    "    model_err = np.sqrt(mass1_err**2+mass2_err**2)\n",
    "    model = mass1+mass2\n",
    "    inv_sigma2 = 1.0/np.sqrt(e_empmass**2+model_err**2)\n",
    "    return -0.5*(np.sum((empmass-model)**2*inv_sigma2 - np.log(inv_sigma2)))"
   ]
  },
  {
   "cell_type": "code",
   "execution_count": null,
   "metadata": {
    "collapsed": true
   },
   "outputs": [],
   "source": [
    "def lnprior(theta, plxval, plxprior, nvar):\n",
    "    mplx = theta[nvar:theta.size]\n",
    "    lp = 0\n",
    "    if np.min(mplx) <= 0:\n",
    "        return -np.inf\n",
    "    for i in range(0,len(mplx)):\n",
    "        lp += ((np.float(mplx[i])-np.float(plxval[i]))**2)/(np.float(plxprior[i])**2)\n",
    "    lp*=(-0.5)\n",
    "    if not np.isfinite(lp):\n",
    "        return 0.0\n",
    "    return lp"
   ]
  },
  {
   "cell_type": "code",
   "execution_count": null,
   "metadata": {
    "collapsed": true
   },
   "outputs": [],
   "source": [
    "def lnprob(theta, plxval, plxprior, smaper, esmaper, kp, ks, ekp, eks, feh, nvar):\n",
    "    lp = lnprior(theta, plxval, plxprior, nvar)\n",
    "    if not np.isfinite(lp):\n",
    "        return -np.inf\n",
    "    like = lnlike(theta, smaper, esmaper, kp, ks, ekp, eks, feh, nvar)\n",
    "    if not np.isfinite(like):\n",
    "        return -np.inf\n",
    "    val = lp + like\n",
    "    return val"
   ]
  },
  {
   "cell_type": "code",
   "execution_count": null,
   "metadata": {
    "collapsed": false
   },
   "outputs": [],
   "source": [
    "import time\n",
    "start_time = time.time()\n",
    "ndim, nwalkers = result.size, 800\n",
    "pos = [result + 1e-2*result*np.random.randn(ndim) for i in range(nwalkers)]\n",
    "sampler = emcee.EnsembleSampler(nwalkers, ndim, lnprob, \n",
    "                                args=(plxval, plxprior, smaper, esmaper, kp, ks, ekp, eks, feh, nvar),\n",
    "                               threads=6)\n",
    "## burn-in and/or testing\n",
    "smallstep = 5000\n",
    "bigstep = 100000\n",
    "pos, prob, state = sampler.run_mcmc(pos, smallstep)\n",
    "print 'Finished burn/test phase runtime (minutes):'\n",
    "print (time.time() - start_time)/60\n",
    "print(\"Mean acceptance fraction: {0:.3f}\".format(np.mean(sampler.acceptance_fraction)))\n",
    "print 'Expected time (hours):'\n",
    "print ((time.time() - start_time)/60)*(bigstep/smallstep)/60\n"
   ]
  },
  {
   "cell_type": "code",
   "execution_count": null,
   "metadata": {
    "collapsed": false
   },
   "outputs": [],
   "source": [
    "dat = sampler.chain\n",
    "prob = sampler.lnprobability\n",
    "accept = sampler.acceptance_fraction\n",
    "dat = sampler.flatchain#chain\n",
    "like = sampler.flatlnprobability\n",
    "arr = dat\n",
    "best = (like == max(like))\n",
    "a = arr[best,0:nvar]#np.median(arr[:,0])\n",
    "print a"
   ]
  },
  {
   "cell_type": "code",
   "execution_count": null,
   "metadata": {
    "collapsed": false,
    "scrolled": true
   },
   "outputs": [],
   "source": [
    "sampler.reset()\n",
    "start_time = time.time()\n",
    "nsteps = bigstep\n",
    "thin = 100\n",
    "kwargs = {'thin': thin }\n",
    "print 'Starting run!'\n",
    "for i, result in enumerate(sampler.sample(pos, iterations=nsteps, **kwargs)):\n",
    "    if (i+1) % 50000 == 0:\n",
    "        print(\"{0:5.1%}\".format(float(i) / nsteps)),\n",
    "        (\"{0:5.2%}\".format((time.time() - start_time)/60))\n",
    "print ' '\n",
    "print 'Done, runtime (hours):'\n",
    "print (time.time() - start_time)/3600\n",
    "print(\"Mean acceptance fraction: {0:.3f}\".format(np.mean(sampler.acceptance_fraction)))"
   ]
  },
  {
   "cell_type": "code",
   "execution_count": null,
   "metadata": {
    "collapsed": false
   },
   "outputs": [],
   "source": [
    "#print dat.shape,nwalkers,nsteps,thin\n",
    "import corner\n",
    "from matplotlib.backends.backend_pdf import PdfPages\n",
    "dat = sampler.flatchain#chain\n",
    "like = sampler.flatlnprobability\n",
    "arr = dat\n",
    "\n",
    "fig = corner.corner(arr[:,0:nvar], labels=['a',r'b','c',r'd',r'e',e'f'], show_titles=True, title_kwargs={\"fontsize\": 11},title_fmt='.4f')\n",
    "pp = PdfPages('output_params_log.pdf')\n",
    "pp.savefig(fig)\n",
    "pp.close()"
   ]
  },
  {
   "cell_type": "code",
   "execution_count": null,
   "metadata": {
    "collapsed": false
   },
   "outputs": [],
   "source": [
    "dat = sampler.chain\n",
    "prob = sampler.lnprobability\n",
    "accept = sampler.acceptance_fraction\n",
    "arr = dat.reshape((dat.shape)[0]*(dat.shape)[1],dat.shape[2])\n",
    "print 'name plx_mcmc plx_err_mcmc plxinput plx_prior diff_sig1 diff_sig2'\n",
    "for i in range(nvar,dat.shape[2]):\n",
    "    print \"{:10s}\".format(name[i-nvar]), \\\n",
    "    i,\\\n",
    "    \"{0:.4f}\".format(np.median(arr[:,i])),\"{0:.4f}\".format(np.std(arr[:,i])),\"{0:.4f}\".format(plxprior[i-nvar]), \\\n",
    "    \"{0:.4f}\".format(plxval[i-nvar]),\"{0:.4f}\".format((plxval[i-nvar]-np.median(arr[:,i]))/plxprior[i-nvar]), \\\n",
    "    \"{0:.4f}\".format((plxval[i-nvar]-np.median(arr[:,i]))/np.sqrt(plxprior[i-nvar]**2+np.std(arr[:,i])**2))\n",
    "    "
   ]
  },
  {
   "cell_type": "code",
   "execution_count": null,
   "metadata": {
    "collapsed": false
   },
   "outputs": [],
   "source": [
    "factor = (au**3.)*((4.0*np.pi**2.)/(g*msun))\n",
    "mass = factor*smaper/plxval**3\n",
    "#e_empmass = empmass*np.sqrt((esmaper/smaper)**2 +9.0*(plxprior/plxval)**2)\n",
    "#sma_au = sma*au*(1000/plxval)\n",
    "#mass = (4.*(pi**2.))*((sma_au**3./per**2.)/g)/msun\n",
    "\n",
    "mka = kp - 5.0*(np.log10(1000.0/plxval)-1.)\n",
    "mkb = ks - 5.0*(np.log10(1000.0/plxval)-1.)\n",
    "\n",
    "best = (like == max(like))\n",
    "a = arr[best,0]#np.median(arr[:,0])\n",
    "b = arr[best,1]#np.median(arr[:,1])\n",
    "c = arr[best,2]#np.median(arr[:,2])\n",
    "d = arr[best,3]#np.median(arr[:,3])\n",
    "e = arr[best,4]#np.median(arr[:,4])\n",
    "print a,b,c,d,e\n",
    "\n",
    "#mass1 = a + b*(mka-7.5) + c*(mka-7.5)**2 + d*(mka-7.5)**3 + e*(mka-7.5)**4\n",
    "#mass2 = a + b*(mkb-7.5) + c*(mkb-7.5)**2 + d*(mkb-7.5)**3 + e*(mkb-7.5)**4\n",
    "mass1 = 10.0**(a + b*(mka-7.5) + c*(mka-7.5)**2 + d*(mka-7.5)**3 + e*(mka-7.5)**4)\n",
    "mass2 = 10.0**(a + b*(mkb-7.5) + c*(mkb-7.5)**2 + d*(mkb-7.5)**3 + e*(mkb-7.5)**4)\n",
    "#mass1 = 10.0**(a + b*(mka-7.5) + c*(mka-7.5)**2 + d*(mka-7.5)**3)\n",
    "#mass2 = 10.0**(a + b*(mkb-7.5) + c*(mkb-7.5)**2 + d*(mkb-7.5)**3)\n",
    "sysmass = mass1+mass2\n",
    "a, b, c, d, e = result1\n",
    "mass1 = a + b*(mka-7.5) + c*(mka-7.5)**2 + d*(mka-7.5)**3 + e*(mka-7.5)**4\n",
    "mass2 = a + b*(mkb-7.5) + c*(mkb-7.5)**2 + d*(mkb-7.5)**3 + e*(mkb-7.5)**4\n",
    "sysmass_mann = mass1+mass2\n",
    "a, b, c, d, e = result_ben\n",
    "mass1 = a + b*(mka-7.5) + c*(mka-7.5)**2 + d*(mka-7.5)**3 + e*(mka-7.5)**4\n",
    "mass2 = a + b*(mkb-7.5) + c*(mkb-7.5)**2 + d*(mkb-7.5)**3 + e*(mkb-7.5)**4\n",
    "sysmass_ben = mass1+mass2"
   ]
  },
  {
   "cell_type": "code",
   "execution_count": null,
   "metadata": {
    "collapsed": false
   },
   "outputs": [],
   "source": [
    "import matplotlib.pyplot as plt\n",
    "\n",
    "rng = [np.min(np.concatenate([sysmass,sysmass_ben,mass])),\n",
    "         np.max(np.concatenate([sysmass,sysmass_ben,mass]))]\n",
    "plt.figure()\n",
    "plt.plot(sysmass,mass,'ro')\n",
    "plt.ylabel('Orbital Mass')\n",
    "plt.xlabel('Predicted')\n",
    "plt.plot(sysmass_ben,mass,'ro',color='b')\n",
    "plt.plot(rng,rng)\n",
    "plt.plot(sysmass_mann,mass,'ro',color='g')\n",
    "plt.plot(rng,rng)\n",
    "## blue = benedict\n",
    "## green = mann idl\n",
    "## red = python"
   ]
  },
  {
   "cell_type": "code",
   "execution_count": null,
   "metadata": {
    "collapsed": false
   },
   "outputs": [],
   "source": [
    "newprob = prob.reshape((prob.shape)[0]*(dat.shape)[1])\n",
    "num = 7\n",
    "plt.plot(dat[2,:,num])\n",
    "print np.median(arr[:,num]),plxval[num-5]\n",
    "\n",
    "#\n",
    "print newprob.shape,arr[:,0].shape\n",
    "n, bins, patches = plt.hist(newprob[np.isfinite(newprob)], 50, normed=1, facecolor='green', alpha=0.75)\n",
    "plt.show()"
   ]
  },
  {
   "cell_type": "code",
   "execution_count": null,
   "metadata": {
    "collapsed": false
   },
   "outputs": [],
   "source": [
    "best = (like == max(like))\n",
    "a = arr[best,0]#np.median(arr[:,0])\n",
    "b = arr[best,1]#np.median(arr[:,1])\n",
    "c = arr[best,2]#np.median(arr[:,2])\n",
    "d = arr[best,3]#np.median(arr[:,3])\n",
    "e = arr[best,4]#np.median(arr[:,3])\n",
    "scat = arr[best,55]\n",
    "\n",
    "print a,b,c,d,e\n",
    "print scat\n",
    "rng = [np.min(np.concatenate([mka,mkb])),np.max(np.concatenate([mka,mkb]))]\n",
    "mk = np.linspace(rng[0],rng[1],100)\n",
    "mass1 = 10.0**(a + b*(mk-7.5) + c*(mk-7.5)**2 + d*(mk-7.5)**3 + e*(mk-7.5)**4)\n",
    "a, b, c, d, e = result1\n",
    "mass2 = a + b*(mk-7.5) + c*(mk-7.5)**2 + d*(mk-7.5)**3 + e*(mk-7.5)**4\n",
    "mass3 = 0.585825902+3.87151019e-1*mk-1.21729937e-1*mk**2.+1.05529583e-2*mk**3.-2.72615872e-4*mk**4.\n",
    "\n",
    "## red = new fit\n",
    "## blue = Benedict\n",
    "## green = How to constrain your M dwarf\n",
    "#plt.plot(mk,mass1,color='o')\n",
    "plt.plot(mk,mass2,color='b')\n",
    "plt.plot(mk,mass3,color='g')\n",
    "\n",
    "\n",
    "for i in range(0,60):\n",
    "    index = np.random.randint(len(arr[:,0]))\n",
    "    if np.isfinite(newprob[index]):\n",
    "        a, b, c, d, e= arr[index,0:nvar]\n",
    "        mass = 10.0**(a + b*(mk-7.5) + c*(mk-7.5)**2 + d*(mk-7.5)**3 + e*(mk-7.5)**4)\n",
    "        plt.plot(mk,mass,color='r',lw=2,alpha=0.1)\n",
    "\n",
    "plt.plot(mk,mass1,color='black')\n",
    "plt.plot(mk,mass2,color='b')\n",
    "plt.plot(mk,mass3,color='g')\n",
    "\n",
    "plt.show()\n"
   ]
  },
  {
   "cell_type": "code",
   "execution_count": null,
   "metadata": {
    "collapsed": false
   },
   "outputs": [],
   "source": [
    "## save out the relevant chains\n",
    "import pyfits\n",
    "pyfits.writeto('Mk-Mass_log_emcee2.fits', sampler.chain, clobber=True)\n",
    "pyfits.writeto('Mk-Mass_log_emcee_accept2.fits', sampler.acceptance_fraction, clobber=True)\n",
    "pyfits.writeto('Mk-Mass_log_emcee_lnprob2.fits', sampler.lnprobability, clobber=True)\n",
    "pyfits.writeto('Mk-Mass_log_emcee_acor2.fits', sampler.acor, clobber=True)"
   ]
  },
  {
   "cell_type": "code",
   "execution_count": null,
   "metadata": {
    "collapsed": true
   },
   "outputs": [],
   "source": []
  }
 ],
 "metadata": {
  "anaconda-cloud": {},
  "kernelspec": {
   "display_name": "Python [Root]",
   "language": "python",
   "name": "Python [Root]"
  },
  "language_info": {
   "codemirror_mode": {
    "name": "ipython",
    "version": 2
   },
   "file_extension": ".py",
   "mimetype": "text/x-python",
   "name": "python",
   "nbconvert_exporter": "python",
   "pygments_lexer": "ipython2",
   "version": "2.7.12"
  }
 },
 "nbformat": 4,
 "nbformat_minor": 1
}
