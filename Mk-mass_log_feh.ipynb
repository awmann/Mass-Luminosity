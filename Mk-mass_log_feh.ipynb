{
 "cells": [
  {
   "cell_type": "code",
   "execution_count": 1,
   "metadata": {},
   "outputs": [],
   "source": [
    "import emcee\n",
    "import matplotlib\n",
    "import numpy as np\n",
    "import corner\n",
    "import scipy.optimize as op\n",
    "\n",
    "%matplotlib inline  \n",
    "\n",
    "# some important variables\n",
    "g = 6.6743e-8\n",
    "msun = 1.989e33\n",
    "au = 1.496e13\n",
    "pi = 3.14159"
   ]
  },
  {
   "cell_type": "code",
   "execution_count": 2,
   "metadata": {},
   "outputs": [],
   "source": [
    "nbin = 58 ## number of binaries in sample\n",
    "nvar = 6\n",
    "\n",
    "## read in delK, parallax\n",
    "delk = np.zeros(nbin)\n",
    "edelk = np.zeros(nbin)\n",
    "plxval = np.zeros(nbin)\n",
    "plxprior = np.zeros(nbin)\n",
    "name = strs = ['']*nbin\n",
    "k = np.zeros(nbin)\n",
    "ek = np.zeros(nbin)\n",
    "feh = np.zeros(nbin)\n",
    "f = open('data2.txt','r')\n",
    "header1 = f.readline()\n",
    "i=0\n",
    "for line in f:\n",
    "    line = line.strip()\n",
    "    columns = line.split()\n",
    "    name[i] = columns[0]\n",
    "    delk[i] = float(columns[1])\n",
    "    edelk[i] = float(columns[2])\n",
    "    plxval[i] = float(columns[3])\n",
    "    plxprior[i] = float(columns[4])\n",
    "    k[i] = float(columns[5])\n",
    "    ek[i] = float(columns[6])\n",
    "    feh[i] = float(columns[8])\n",
    "    i+=1\n",
    "f.close()\n",
    "\n",
    "## now for the sma**3/per**2\n",
    "f = open('fits.txt','r')\n",
    "header1 = f.readline()\n",
    "i=0\n",
    "smaper = np.zeros(nbin)\n",
    "esmaper = np.zeros(nbin)\n",
    "for line in f:\n",
    "    line = line.strip()\n",
    "    columns = line.split()\n",
    "    smaper[i] = float(columns[0])\n",
    "    esmaper[i] = float(columns[1])\n",
    "    i+=1\n",
    "f.close()\n",
    "\n",
    "fluxratio = 10.0**(delk/2.5)\n",
    "del_eps = 2.5*np.log10(1.0+1.0/fluxratio)\n",
    "kp = del_eps+k\n",
    "ks = kp + delk\n",
    "\n",
    "# compute MC errors on Kp, Ks\n",
    "mcsize = 50000\n",
    "ekp = kp*0.\n",
    "eks = ks*0.\n",
    "for i in range(0,len(ks)):\n",
    "    ktmp = k[i]+ek[i]*np.random.standard_normal(mcsize)\n",
    "    deltmp = delk[i]+edelk[i]*np.random.standard_normal(mcsize)\n",
    "    fluxratio = 10.0**(deltmp/2.5)\n",
    "    del_eps = 2.5*np.log10(1.0+1.0/fluxratio)\n",
    "    kpt = del_eps+ktmp\n",
    "    kst = kp[i] + ktmp\n",
    "    ekp[i] = np.std(kpt)\n",
    "    eks[i] = np.std(kst)\n",
    "\n",
    "\n",
    "result_ben = np.array([0.2311,-0.1352, 0.0400, 0.0038, -0.0032]) # benedict fit value\n",
    "result1 = np.array([0.23323026,-0.10887911, 0.019990399, 0.00027286744, -0.00046073982])# Mann fit value\n",
    "result2 = plxval\n",
    "result_delf = [0.001*1.8,0.001*6.12,0.001*13.205,-6.2315*0.001,0.001*0.37529]\n",
    "result3= np.array([-0.663541,-0.212175 , 0.00594868 ,  0.00641549, -0.000416446]) ## one I measured in IDL\n",
    "fehcoeff = np.array([0.01])\n",
    "result = np.concatenate([result3,fehcoeff,result2])\n"
   ]
  },
  {
   "cell_type": "code",
   "execution_count": 3,
   "metadata": {},
   "outputs": [],
   "source": [
    "factor = (au**3.)*((4.0*np.pi**2.)/(g*msun))\n",
    "empmass = factor*smaper/plxval**3\n",
    "e_empmass = empmass*np.sqrt((esmaper/smaper)**2 +9.0*(plxprior/plxval)**2)"
   ]
  },
  {
   "cell_type": "code",
   "execution_count": 4,
   "metadata": {
    "scrolled": true
   },
   "outputs": [
    {
     "name": "stdout",
     "output_type": "stream",
     "text": [
      "GJ623      0.494 0.004 0.4633 0.0034 0.733 6.4968 9.0678 0.023 0.023 0.354 0.110 5.5 -0.44\n",
      "GJ4024     0.917 0.139 0.8902 0.0049 0.549 5.5041 6.4691 0.019 0.018 0.532 0.358 0.2 -0.09\n",
      "PMJ02133+3648 0.245 0.035 0.2538 0.0015 0.609 8.1313 9.6003 0.018 0.018 0.161 0.093 0.3 -0.07\n",
      "HIP11542   1.457 0.183 1.2845 0.0027 0.207 4.6013 4.8643 0.019 0.018 0.654 0.630 0.9 0.21\n",
      "HD239960   0.460 0.011 0.4207 0.0030 0.702 7.1190 8.1570 0.029 0.029 0.262 0.159 3.6 -0.11\n",
      "HD15285    1.389 0.079 1.2942 0.0024 0.187 4.6580 4.7310 0.020 0.018 0.650 0.644 1.2 0.41\n",
      "Gl844      0.871 0.095 0.9228 0.0052 0.567 5.8306 5.9476 0.022 0.021 0.472 0.451 0.5 0.21\n",
      "HIP9724    0.514 0.027 0.5609 0.0038 0.671 5.9100 9.2460 0.020 0.020 0.458 0.103 1.7 -0.14\n",
      "Gl831      0.418 0.003 0.3981 0.0028 0.702 7.1793 8.3793 0.020 0.020 0.254 0.144 4.7 0.20\n",
      "Gl804      0.996 0.135 0.9460 0.0047 0.500 5.2621 6.3851 0.017 0.016 0.574 0.372 0.4 -0.09\n",
      "Gl747      0.429 0.026 0.4121 0.0028 0.686 7.5507 7.6637 0.021 0.020 0.212 0.200 0.6 -0.20\n",
      "Gl695C     0.868 0.023 0.8393 0.0051 0.607 5.9652 6.2712 0.018 0.016 0.447 0.392 1.2 0.22\n",
      "Gl660      0.606 0.053 0.5384 0.0037 0.695 7.0422 7.0812 0.022 0.021 0.272 0.267 1.3 -0.20\n",
      "Gl54       0.750 0.010 0.7262 0.0047 0.644 6.1084 6.8054 0.027 0.024 0.421 0.305 2.2 0.17\n",
      "Gl494      0.667 0.035 0.6680 0.0033 0.494 5.2580 9.5780 0.016 0.016 0.574 0.094 0.0 0.30\n",
      "Gl473      0.262 0.016 0.2644 0.0015 0.582 8.5808 8.5858 0.022 0.020 0.132 0.132 0.2 0.09\n",
      "Gl469      0.504 0.010 0.5060 0.0035 0.701 6.6988 7.8328 0.026 0.026 0.321 0.185 0.2 0.19\n",
      "Gl381      0.765 0.082 0.6723 0.0044 0.660 6.2132 7.0552 0.026 0.026 0.402 0.270 1.1 -0.12\n",
      "Gl330      0.915 0.142 0.8111 0.0047 0.584 5.6626 6.7876 0.023 0.023 0.503 0.308 0.7 -0.17\n",
      "Gl310      0.778 0.067 0.8599 0.0037 0.429 5.0195 7.2165 0.015 0.015 0.610 0.249 1.2 -0.06\n",
      "Gl301B     1.227 0.144 1.1657 0.0043 0.369 4.9203 5.4473 0.027 0.026 0.623 0.542 0.4 -0.18\n",
      "Gl190      0.835 0.053 0.7976 0.0050 0.628 6.1790 6.2870 0.020 0.018 0.408 0.389 0.7 0.25\n",
      "Gl125      0.905 0.081 0.9669 0.0046 0.479 5.1694 6.3494 0.017 0.016 0.589 0.378 0.8 0.49\n",
      "GJ661      0.596 0.054 0.6396 0.0043 0.679 6.5889 6.8329 0.025 0.023 0.339 0.301 0.8 -0.41\n",
      "GJ65       0.237 0.005 0.2284 0.0012 0.518 8.9041 9.0151 0.036 0.021 0.117 0.112 1.6 0.04\n",
      "GJ600      1.228 0.032 1.2363 0.0037 0.297 4.9445 4.9795 0.025 0.023 0.620 0.616 0.3 0.01\n",
      "GJ570B     0.837 0.052 0.9406 0.0048 0.512 5.3249 6.3559 0.231 0.231 0.563 0.377 2.0 0.18\n",
      "GJ4287     0.954 0.090 1.1258 0.0042 0.377 4.7979 5.7439 0.027 0.027 0.637 0.488 1.9 0.03\n",
      "GJ4210     0.998 0.220 0.7814 0.0047 0.604 5.7831 6.8381 0.024 0.024 0.481 0.300 1.0 -0.25\n",
      "HIP46706   0.780 0.075 0.7980 0.0050 0.628 6.1677 6.2967 0.022 0.020 0.410 0.388 0.2 -0.03\n",
      "GJ3421     0.248 0.009 0.2437 0.0013 0.549 8.7106 8.8676 0.023 0.021 0.126 0.118 0.5 -0.60\n",
      "GJ3412     0.528 0.007 0.5307 0.0037 0.697 6.6043 7.7243 0.017 0.016 0.336 0.195 0.4 -0.21\n",
      "GJ340      1.357 0.055 1.3287 0.0002 0.015 4.3218 4.3458 0.020 0.017 0.664 0.664 0.5 -0.39\n",
      "GJ234      0.333 0.002 0.3183 0.0022 0.684 7.5636 9.1186 0.018 0.018 0.210 0.108 5.4 0.11\n",
      "GJ22A      0.569 0.011 0.5676 0.0039 0.681 6.1864 8.1354 0.023 0.023 0.407 0.161 0.1 -0.24\n",
      "GJ2005     0.157 0.006 0.1541 0.0002 0.118 10.5209 10.8379 0.031 0.030 0.078 0.076 0.5 -0.08\n",
      "GJ1245     0.185 0.003 0.2003 0.0009 0.464 8.8997 10.0597 0.016 0.016 0.117 0.084 5.0 0.01\n",
      "GJ1081     0.583 0.043 0.5015 0.0035 0.701 6.7787 7.7487 0.028 0.027 0.309 0.192 1.9 -0.03\n",
      "GJ1005     0.319 0.002 0.3097 0.0021 0.662 7.7294 8.9274 0.018 0.018 0.194 0.116 3.0 -0.41\n",
      "Gl791.2    0.298 0.020 0.2859 0.0019 0.657 7.8095 9.3805 0.024 0.024 0.187 0.099 0.6 0.05\n",
      "GJ748      0.526 0.007 0.5217 0.0036 0.699 6.6328 7.7728 0.025 0.024 0.332 0.190 0.5 -0.23\n",
      "Gl913      0.890 0.118 0.9044 0.0045 0.503 5.2633 6.6373 0.020 0.020 0.574 0.331 0.1 -0.12\n",
      "GJ1038     1.301 0.204 1.2369 0.0037 0.296 4.9270 4.9920 0.022 0.021 0.623 0.614 0.3 0.03\n",
      "Gl277      0.698 0.065 0.6849 0.0041 0.605 5.7318 7.7278 0.017 0.017 0.491 0.194 0.2 0.18\n",
      "GJ3454     0.279 0.015 0.2881 0.0018 0.614 8.2459 8.5269 0.021 0.020 0.153 0.135 0.6 0.03\n",
      "GJ1210     0.218 0.019 0.2366 0.0013 0.535 8.8254 8.9044 0.026 0.025 0.120 0.117 1.0 -0.19\n",
      "2M1047+40  0.171 0.012 0.1705 0.0005 0.298 9.8281 10.1171 0.028 0.018 0.088 0.083 0.0 0.17\n",
      "2M1847+55  0.185 0.022 0.2188 0.0011 0.497 8.9458 9.2268 0.033 0.020 0.115 0.104 1.5 0.32\n",
      "2M2206-20  0.168 0.016 0.1733 0.0005 0.316 9.8520 9.9190 0.028 0.027 0.087 0.086 0.3 -0.05\n",
      "LHS1901    0.203 0.009 0.2035 0.0009 0.451 9.2492 9.3432 0.018 0.018 0.103 0.100 0.1 -0.41\n",
      "LP415-20   0.241 0.027 0.1924 0.0008 0.417 9.2288 9.7948 0.023 0.020 0.104 0.088 1.8 0.10\n",
      "LS1735+26  0.178 0.008 0.1704 0.0005 0.300 9.7505 10.2405 0.022 0.020 0.089 0.081 1.0 0.03\n",
      "2M0746+20  0.154 0.002 0.1531 0.0001 0.094 10.6055 10.9625 0.024 0.022 0.077 0.076 0.2 -0.18\n",
      "2M1017+13  0.149 0.016 0.1515 0.0000 0.025 10.9468 11.0598 0.026 0.023 0.076 0.076 0.1 -0.35\n",
      "2M2140+16  0.190 0.017 0.1720 0.0005 0.315 9.6200 10.3630 0.040 0.031 0.092 0.079 1.1 -0.10\n",
      "Gl893.4    0.846 0.117 1.0240 0.0052 0.505 5.5893 5.6413 0.019 0.017 0.517 0.507 1.5 -0.17\n",
      "Gl263      0.951 0.141 0.8232 0.0050 0.611 5.9450 6.3860 0.019 0.017 0.451 0.372 0.9 0.43\n",
      "GJ416      1.192 0.102 1.1792 0.0038 0.324 4.5743 5.5543 0.018 0.017 0.656 0.523 0.1 -0.20\n",
      "3.3109812769\n",
      "3.3109812769\n"
     ]
    }
   ],
   "source": [
    "## this is mostly for checking things are reasonable\n",
    "mka = kp - 5.0*(np.log10(1000.0/plxval)-1.)\n",
    "mkb = ks - 5.0*(np.log10(1000.0/plxval)-1.)\n",
    "a, b, c, d, e = result3\n",
    "mka_err = 0.02## for now\n",
    "mkb_err = 0.02## for now\n",
    "mass1 = 10.0**(a + b*(mka-7.5) + c*(mka-7.5)**2 + d*(mka-7.5)**3 + e*(mka-7.5)**4)\n",
    "mass2 = 10.0**(a + b*(mkb-7.5) + c*(mkb-7.5)**2 + d*(mkb-7.5)**3 + e*(mkb-7.5)**4)\n",
    "mass1_err = (np.log(10)*(b+2*c*(mka-7.5)+3*d*(mka-7.5)**2+4*e*(mka-7.5)**3))*mass1*mka_err\n",
    "mass2_err = (np.log(10)*(b+2*c*(mkb-7.5)+3*d*(mkb-7.5)**2+4*e*(mkb-7.5)**3))*mass2*mkb_err\n",
    "#mass1 = 10.0**(a + b*(mka-7.5) + c*(mka-7.5)**2 + d*(mka-7.5)**3)\n",
    "#mass2 = 10.0**(a + b*(mkb-7.5) + c*(mkb-7.5)**2 + d*(mkb-7.5)**3)\n",
    "#mass1_err = (np.log(10)*(b+2*c*(mka-7.5)+3*d*(mka-7.5)**2))*mass1*mka_err\n",
    "#mass2_err = (np.log(10)*(b+2*c*(mkb-7.5)+3*d*(mkb-7.5)**2))*mass2*mkb_err\n",
    "\n",
    "model_err = np.sqrt(mass1_err**2+mass2_err**2)\n",
    "model_err2 = np.sqrt(mass1_err**2+mass2_err**2)#+(scat*mass1)**2+(scat*mass2)**2 )\n",
    "model = mass1+mass2\n",
    "\n",
    "for i in range(0,len(empmass)):\n",
    "    print \"{:10s}\".format(name[i]), \\\n",
    "    \"{0:.3f}\".format(empmass[i]),\"{0:.3f}\".format(e_empmass[i]), \\\n",
    "    \"{0:.4f}\".format(model[i]),\"{0:.4f}\".format(model_err[i]),\"{0:.3f}\".format(100*model_err[i]/model[i]), \\\n",
    "    \"{0:.4f}\".format(mka[i]),\"{0:.4f}\".format(mkb[i]), \\\n",
    "    \"{0:.3f}\".format(ekp[i]),\"{0:.3f}\".format(eks[i]), \\\n",
    "    \"{0:.3f}\".format(mass1[i]),\"{0:.3f}\".format(mass2[i]), \\\n",
    "    \"{0:.1f}\".format(np.abs(empmass[i]-model[i])/np.sqrt(e_empmass[i]**2+model_err[i]**2)), \\\n",
    "    \"{0:.2f}\".format(feh[i])\n",
    "    \n",
    "print np.sum((empmass-model)**2/(e_empmass**2+model_err**2))/(empmass.size-5.)\n",
    "print np.sum((empmass-model)**2/(e_empmass**2+model_err2**2 ))/(empmass.size-5.)"
   ]
  },
  {
   "cell_type": "code",
   "execution_count": 5,
   "metadata": {},
   "outputs": [],
   "source": [
    "def lnlike(theta, smaper, esmaper, kp, ks, ekp, eks, feh, nvar):\n",
    "    zp = 7.5e0\n",
    "    au = 1.496e13\n",
    "    msun = 1.989e33\n",
    "    g = 6.6743e-8 \n",
    "    a, b, c, d, e, f = theta[0:nvar]\n",
    "    mplx = theta[nvar:theta.size]\n",
    "    if np.min(mplx) <= 0:\n",
    "        return -np.inf\n",
    "    factor = (au**3.)*((4.0*np.pi**2.)/(g*msun))\n",
    "    empmass = factor*smaper/mplx**3\n",
    "    e_empmass = empmass*(esmaper/smaper)**2\n",
    "    mka = kp - 5.0*(np.log10(1000.0/mplx)-1.)\n",
    "    mkb = ks - 5.0*(np.log10(1000.0/mplx)-1.)\n",
    "    mka -= zp\n",
    "    mkb -= zp\n",
    "    mass1 = (10.0**(a + b*mka + c*mka**2. + d*mka**3. + e*mka**4.))*(1+f*feh)\n",
    "    mass2 = (10.0**(a + b*mkb + c*mkb**2. + d*mkb**3. + e*mkb**4.))*(1+f*feh)\n",
    "    if np.min(mass1) <= 0 or np.min(mass2) <= 0:\n",
    "        return -np.inf\n",
    "    \n",
    "    ## this is where we check to see if the relation always does brighter=higher mass (if not return -np.inf)\n",
    "    rng = [np.min(np.concatenate([mka,mkb])),np.max(np.concatenate([mka,mkb]))]\n",
    "    mk = np.linspace(rng[0],rng[1],50)\n",
    "    l = 10.0**(a + b*mk + c*mk**2. + d*mk**3. + e*mk**4.)\n",
    "    check = all(l[i] >= l[i+1] for i in xrange(len(l)-1))\n",
    "    if not check:\n",
    "        return -np.inf\n",
    "    ## there's a better way to do this... probably to check to see if the slope goes negative\n",
    "\n",
    "    mka_err = ekp\n",
    "    mkb_err = eks\n",
    "    mass1_err = np.abs((np.log(10.)*(b+2.*c*mka+3.*d*mka**2+4.*e*mka**3.))*mass1*mka_err)\n",
    "    mass2_err = np.abs((np.log(10.)*(b+2.*c*mkb+3.*d*mkb**2+4.*e*mkb**3.))*mass2*mkb_err)\n",
    "    \n",
    "    model_err = np.sqrt(mass1_err**2+mass2_err**2)\n",
    "    model = mass1+mass2\n",
    "    inv_sigma2 = 1.0/np.sqrt(e_empmass**2+model_err**2)\n",
    "    return -0.5*(np.sum((empmass-model)**2*inv_sigma2 - np.log(inv_sigma2)))"
   ]
  },
  {
   "cell_type": "code",
   "execution_count": 6,
   "metadata": {},
   "outputs": [],
   "source": [
    "def lnprior(theta, plxval, plxprior, nvar):\n",
    "    mplx = theta[nvar:theta.size]\n",
    "    lp = 0\n",
    "    if np.min(mplx) <= 0:\n",
    "        return -np.inf\n",
    "    for i in range(0,len(mplx)):\n",
    "        lp += ((np.float(mplx[i])-np.float(plxval[i]))**2)/(np.float(plxprior[i])**2)\n",
    "    lp*=(-0.5)\n",
    "    if not np.isfinite(lp):\n",
    "        return 0.0\n",
    "    return lp"
   ]
  },
  {
   "cell_type": "code",
   "execution_count": 7,
   "metadata": {},
   "outputs": [],
   "source": [
    "def lnprob(theta, plxval, plxprior, smaper, esmaper, kp, ks, ekp, eks, feh, nvar):\n",
    "    lp = lnprior(theta, plxval, plxprior, nvar)\n",
    "    if not np.isfinite(lp):\n",
    "        return -np.inf\n",
    "    like = lnlike(theta, smaper, esmaper, kp, ks, ekp, eks, feh, nvar)\n",
    "    if not np.isfinite(like):\n",
    "        return -np.inf\n",
    "    val = lp + like\n",
    "    return val"
   ]
  },
  {
   "cell_type": "code",
   "execution_count": 8,
   "metadata": {},
   "outputs": [
    {
     "name": "stderr",
     "output_type": "stream",
     "text": [
      "/Users/amann/anaconda2/lib/python2.7/site-packages/emcee/ensemble.py:335: RuntimeWarning: invalid value encountered in subtract\n",
      "  lnpdiff = (self.dim - 1.) * np.log(zz) + newlnprob - lnprob0\n",
      "/Users/amann/anaconda2/lib/python2.7/site-packages/emcee/ensemble.py:336: RuntimeWarning: invalid value encountered in greater\n",
      "  accept = (lnpdiff > np.log(self._random.rand(len(lnpdiff))))\n"
     ]
    },
    {
     "name": "stdout",
     "output_type": "stream",
     "text": [
      "Finished burn/test phase runtime (minutes):\n",
      "190.6091181\n",
      "Mean acceptance fraction: 0.154\n",
      "Expected time (hours):\n",
      "47.6523156583\n"
     ]
    }
   ],
   "source": [
    "import time\n",
    "start_time = time.time()\n",
    "ndim, nwalkers = result.size, 800\n",
    "pos = [result + 1e-2*result*np.random.randn(ndim) for i in range(nwalkers)]\n",
    "sampler = emcee.EnsembleSampler(nwalkers, ndim, lnprob, \n",
    "                                args=(plxval, plxprior, smaper, esmaper, kp, ks, ekp, eks, feh, nvar),\n",
    "                               threads=6)\n",
    "## burn-in and/or testing\n",
    "smallstep = 10000\n",
    "bigstep = 600000\n",
    "pos, prob, state = sampler.run_mcmc(pos, smallstep)\n",
    "print 'Finished burn/test phase runtime (minutes):'\n",
    "print (time.time() - start_time)/60\n",
    "print(\"Mean acceptance fraction: {0:.3f}\".format(np.mean(sampler.acceptance_fraction)))\n",
    "print 'Expected time (hours):'\n",
    "print ((time.time() - start_time)/60)*(bigstep/smallstep)/60\n"
   ]
  },
  {
   "cell_type": "code",
   "execution_count": 9,
   "metadata": {},
   "outputs": [
    {
     "name": "stdout",
     "output_type": "stream",
     "text": [
      "[[ -6.64177266e-01  -2.14810382e-01   6.85301075e-03   6.63374860e-03\n",
      "   -4.74589671e-04   1.64527746e-03]\n",
      " [ -6.64177266e-01  -2.14810382e-01   6.85301075e-03   6.63374860e-03\n",
      "   -4.74589671e-04   1.64527746e-03]\n",
      " [ -6.64177266e-01  -2.14810382e-01   6.85301075e-03   6.63374860e-03\n",
      "   -4.74589671e-04   1.64527746e-03]]\n"
     ]
    }
   ],
   "source": [
    "dat = sampler.chain\n",
    "prob = sampler.lnprobability\n",
    "accept = sampler.acceptance_fraction\n",
    "dat = sampler.flatchain#chain\n",
    "like = sampler.flatlnprobability\n",
    "arr = dat\n",
    "best = (like == max(like))\n",
    "a = arr[best,0:nvar]#np.median(arr[:,0])\n",
    "print a"
   ]
  },
  {
   "cell_type": "code",
   "execution_count": 10,
   "metadata": {
    "scrolled": true
   },
   "outputs": [
    {
     "name": "stdout",
     "output_type": "stream",
     "text": [
      "Starting run!\n",
      " 6.7% 13.3% 20.0% 26.7% 33.3% 40.0% 46.7% 53.3% 60.0% 66.7% 73.3% 80.0% 86.7% 93.3% 100.0%  \n",
      "Done, runtime (hours):\n",
      "35.4425777756\n",
      "Mean acceptance fraction: 0.153\n"
     ]
    }
   ],
   "source": [
    "sampler.reset()\n",
    "start_time = time.time()\n",
    "nsteps = bigstep\n",
    "thin = 100\n",
    "kwargs = {'thin': thin }\n",
    "print 'Starting run!'\n",
    "for i, result in enumerate(sampler.sample(pos, iterations=nsteps, **kwargs)):\n",
    "    if (i+1) % 50000 == 0:\n",
    "        print(\"{0:5.1%}\".format(float(i) / nsteps)),\n",
    "        (\"{0:5.2%}\".format((time.time() - start_time)/60))\n",
    "print ' '\n",
    "print 'Done, runtime (hours):'\n",
    "print (time.time() - start_time)/3600\n",
    "print(\"Mean acceptance fraction: {0:.3f}\".format(np.mean(sampler.acceptance_fraction)))"
   ]
  },
  {
   "cell_type": "code",
   "execution_count": null,
   "metadata": {},
   "outputs": [],
   "source": [
    "#print dat.shape,nwalkers,nsteps,thin\n",
    "import corner\n",
    "from matplotlib.backends.backend_pdf import PdfPages\n",
    "dat = sampler.flatchain#chain\n",
    "like = sampler.flatlnprobability\n",
    "arr = dat\n",
    "\n",
    "fig = corner.corner(arr[:,0:nvar], labels=[r'$a_1$',r'$a_2$',r'$a_3$',r'$a_4$',r'$a_5$',r'f'], show_titles=True, title_kwargs={\"fontsize\": 11},title_fmt='.4f')\n",
    "pp = PdfPages('output_params_feh.pdf')\n",
    "pp.savefig(fig)\n",
    "pp.close()"
   ]
  },
  {
   "cell_type": "code",
   "execution_count": 12,
   "metadata": {},
   "outputs": [
    {
     "name": "stdout",
     "output_type": "stream",
     "text": [
      "name plx_mcmc plx_err_mcmc plxinput plx_prior diff_sig1 diff_sig2\n",
      "GJ623      6 125.0072 0.2999 0.3000 125.0000 -0.0239 -0.0169\n",
      "GJ4024     7 50.9088 1.4764 2.5000 50.1000 -0.3235 -0.2786\n",
      "PMJ02133+3648 8 74.0251 2.9574 3.5000 74.6000 0.1643 0.1255\n",
      "HIP11542   9 39.6277 0.7592 1.6000 38.2000 -0.8923 -0.8062\n",
      "HD239960   10 250.0096 1.8849 1.9000 249.9000 -0.0577 -0.0410\n",
      "HD15285    11 58.8837 0.8784 1.1000 58.3000 -0.5306 -0.4146\n",
      "Gl844      12 61.2043 1.6658 2.2000 61.8000 0.2708 0.2159\n",
      "HIP9724    13 109.2374 1.7992 1.8700 109.5900 0.1885 0.1359\n",
      "Gl831      14 125.3015 0.3003 0.3000 125.3000 -0.0049 -0.0034\n",
      "Gl804      15 48.4401 1.2195 2.1000 47.4000 -0.4953 -0.4283\n",
      "Gl747      16 122.4436 2.3813 2.5000 122.3000 -0.0574 -0.0416\n",
      "Gl695C     17 120.3331 0.1599 0.1600 120.3300 -0.0193 -0.0136\n",
      "Gl660      18 86.3765 2.1343 2.4700 85.2300 -0.4642 -0.3512\n",
      "Gl54       19 126.9062 0.3990 0.4000 126.9000 -0.0156 -0.0110\n",
      "Gl494      20 85.4696 1.3501 1.5000 85.5000 0.0203 0.0151\n",
      "Gl473      21 227.5216 4.4682 4.6000 227.9000 0.0823 0.0590\n",
      "Gl469      22 76.3896 0.4972 0.5000 76.4000 0.0209 0.0148\n",
      "Gl381      23 85.2331 2.2616 2.7700 83.5200 -0.6184 -0.4790\n",
      "Gl330      24 60.7425 1.9172 2.7000 58.8000 -0.7195 -0.5866\n",
      "Gl310      25 72.0163 1.1884 1.3000 72.6000 0.4490 0.3314\n",
      "Gl301B     26 53.1347 1.2481 1.9800 52.1100 -0.5175 -0.4378\n",
      "Gl190      27 108.3862 1.8836 2.1000 107.9000 -0.2315 -0.1724\n",
      "Gl125      28 62.4366 1.4398 1.9000 63.5000 0.5597 0.4461\n",
      "GJ661      29 166.4038 4.5221 5.0000 167.3000 0.1792 0.1329\n",
      "GJ65       30 373.7128 2.6918 2.7000 373.7000 -0.0047 -0.0034\n",
      "GJ600      31 47.6457 0.2922 0.3000 47.6500 0.0144 0.0104\n",
      "GJ570B     32 171.2053 0.9384 0.9400 171.2200 0.0156 0.0111\n",
      "GJ4287     33 49.4772 1.2052 1.6000 51.2000 1.0768 0.8601\n",
      "GJ4210     34 44.7901 1.6227 3.0000 40.9000 -1.2967 -1.1405\n",
      "HIP46706   35 98.3767 2.5302 3.1000 98.4800 0.0333 0.0258\n",
      "GJ3421     36 112.6161 1.3811 1.4000 112.6000 -0.0115 -0.0082\n",
      "GJ3412     37 95.5986 0.2994 0.3000 95.6000 0.0047 0.0034\n",
      "GJ340      38 57.9811 0.6966 0.7600 57.9200 -0.0804 -0.0593\n",
      "GJ234      39 240.9997 0.3998 0.4000 241.0000 0.0008 0.0006\n",
      "GJ22A      40 99.2056 0.5972 0.6000 99.2000 -0.0093 -0.0066\n",
      "GJ2005     41 128.5981 1.4654 1.5000 128.4900 -0.0720 -0.0515\n",
      "GJ1245     42 221.2639 1.1079 1.1100 221.3200 0.0506 0.0358\n",
      "GJ1081     43 65.2417 0.3971 0.4000 65.2000 -0.1042 -0.0740\n",
      "GJ1005     44 166.6005 0.3000 0.3000 166.6000 -0.0016 -0.0011\n",
      "Gl791.2    45 113.4006 0.1997 0.2000 113.4000 -0.0030 -0.0021\n",
      "GJ748      46 98.4009 0.2997 0.3000 98.4000 -0.0029 -0.0021\n",
      "Gl913      47 68.0656 1.8971 3.0000 68.0000 -0.0219 -0.0185\n",
      "GJ1038     48 40.3238 1.1221 1.6000 39.8000 -0.3274 -0.2680\n",
      "Gl277      49 85.1524 2.0242 2.5000 84.9000 -0.1010 -0.0785\n",
      "GJ3454     50 116.8820 2.0512 2.1000 117.1000 0.1038 0.0743\n",
      "GJ1210     51 86.3729 2.3945 2.5000 86.8000 0.1709 0.1234\n",
      "2M1047+40  52 38.9970 0.8519 0.9000 39.0200 0.0256 0.0186\n",
      "2M1847+55  53 30.1264 1.1109 1.1700 30.5300 0.3450 0.2502\n",
      "2M2206-20  54 36.5053 1.0680 1.1600 36.6000 0.0816 0.0600\n",
      "LHS1901    55 76.4113 1.1047 1.1300 76.4400 0.0254 0.0181\n",
      "LP415-20   56 26.0684 0.7077 0.7700 25.7600 -0.4005 -0.2949\n",
      "LS1735+26  57 64.8709 0.9216 0.9500 64.8200 -0.0536 -0.0385\n",
      "2M0746+20  58 81.2456 0.2492 0.2500 81.2400 -0.0224 -0.0158\n",
      "2M1017+13  59 32.3118 0.8703 1.1600 32.2000 -0.0964 -0.0771\n",
      "2M2140+16  60 29.6812 0.8166 0.8800 29.5200 -0.1832 -0.1343\n",
      "Gl893.4    61 30.8768 0.8944 1.5000 32.5000 1.0821 0.9294\n",
      "Gl263      62 64.5883 1.8975 2.9200 62.0500 -0.8693 -0.7289\n",
      "GJ416      63 46.5856 0.8385 1.3100 46.3600 -0.1722 -0.1450\n"
     ]
    }
   ],
   "source": [
    "dat = sampler.chain\n",
    "prob = sampler.lnprobability\n",
    "accept = sampler.acceptance_fraction\n",
    "arr = dat.reshape((dat.shape)[0]*(dat.shape)[1],dat.shape[2])\n",
    "print 'name plx_mcmc plx_err_mcmc plxinput plx_prior diff_sig1 diff_sig2'\n",
    "for i in range(nvar,dat.shape[2]):\n",
    "    print \"{:10s}\".format(name[i-nvar]), \\\n",
    "    i,\\\n",
    "    \"{0:.4f}\".format(np.median(arr[:,i])),\"{0:.4f}\".format(np.std(arr[:,i])),\"{0:.4f}\".format(plxprior[i-nvar]), \\\n",
    "    \"{0:.4f}\".format(plxval[i-nvar]),\"{0:.4f}\".format((plxval[i-nvar]-np.median(arr[:,i]))/plxprior[i-nvar]), \\\n",
    "    \"{0:.4f}\".format((plxval[i-nvar]-np.median(arr[:,i]))/np.sqrt(plxprior[i-nvar]**2+np.std(arr[:,i])**2))\n",
    "    "
   ]
  },
  {
   "cell_type": "code",
   "execution_count": 13,
   "metadata": {},
   "outputs": [
    {
     "name": "stdout",
     "output_type": "stream",
     "text": [
      "[-0.65717185] [-0.20518422] [ 0.00164248] [ 0.00538808] [ -2.52450470e-05] [ 0.00571719]\n"
     ]
    }
   ],
   "source": [
    "factor = (au**3.)*((4.0*np.pi**2.)/(g*msun))\n",
    "mass = factor*smaper/plxval**3\n",
    "\n",
    "mka = kp - 5.0*(np.log10(1000.0/plxval)-1.)\n",
    "mkb = ks - 5.0*(np.log10(1000.0/plxval)-1.)\n",
    "\n",
    "best = (like == max(like))\n",
    "a = arr[best,0]#np.median(arr[:,0])\n",
    "b = arr[best,1]#np.median(arr[:,1])\n",
    "c = arr[best,2]#np.median(arr[:,2])\n",
    "d = arr[best,3]#np.median(arr[:,3])\n",
    "e = arr[best,4]#np.median(arr[:,4])\n",
    "f = arr[best,5]\n",
    "print a,b,c,d,e,f\n",
    "\n",
    "mass1 = (10.0**(a + b*(mka-7.5) + c*(mka-7.5)**2 + d*(mka-7.5)**3 + e*(mka-7.5)**4))*(1+f*feh)\n",
    "mass2 = (10.0**(a + b*(mkb-7.5) + c*(mkb-7.5)**2 + d*(mkb-7.5)**3 + e*(mkb-7.5)**4))*(1+f*feh)\n",
    "sysmass = mass1+mass2\n",
    "a, b, c, d, e = result1\n",
    "mass1 = a + b*(mka-7.5) + c*(mka-7.5)**2 + d*(mka-7.5)**3 + e*(mka-7.5)**4\n",
    "mass2 = a + b*(mkb-7.5) + c*(mkb-7.5)**2 + d*(mkb-7.5)**3 + e*(mkb-7.5)**4\n",
    "sysmass_mann = mass1+mass2\n",
    "a, b, c, d, e = result_ben\n",
    "mass1 = a + b*(mka-7.5) + c*(mka-7.5)**2 + d*(mka-7.5)**3 + e*(mka-7.5)**4\n",
    "mass2 = a + b*(mkb-7.5) + c*(mkb-7.5)**2 + d*(mkb-7.5)**3 + e*(mkb-7.5)**4\n",
    "sysmass_ben = mass1+mass2"
   ]
  },
  {
   "cell_type": "code",
   "execution_count": 14,
   "metadata": {},
   "outputs": [
    {
     "data": {
      "text/plain": [
       "[<matplotlib.lines.Line2D at 0x181992de10>]"
      ]
     },
     "execution_count": 14,
     "metadata": {},
     "output_type": "execute_result"
    },
    {
     "data": {
      "image/png": "[encoded data removed]",
      "text/plain": [
       "<matplotlib.figure.Figure at 0x182113c490>"
      ]
     },
     "metadata": {},
     "output_type": "display_data"
    }
   ],
   "source": [
    "import matplotlib.pyplot as plt\n",
    "\n",
    "rng = [np.min(np.concatenate([sysmass,sysmass_ben,mass])),\n",
    "         np.max(np.concatenate([sysmass,sysmass_ben,mass]))]\n",
    "plt.figure()\n",
    "plt.plot(sysmass,mass,'ro')\n",
    "plt.ylabel('Orbital Mass')\n",
    "plt.xlabel('Predicted')\n",
    "plt.plot(sysmass_ben,mass,'ro',color='b')\n",
    "plt.plot(rng,rng)\n",
    "plt.plot(sysmass_mann,mass,'ro',color='g')\n",
    "plt.plot(rng,rng)\n",
    "## blue = benedict\n",
    "## green = mann idl\n",
    "## red = python"
   ]
  },
  {
   "cell_type": "code",
   "execution_count": 15,
   "metadata": {},
   "outputs": [
    {
     "name": "stdout",
     "output_type": "stream",
     "text": [
      "50.9088145071 74.6\n",
      "(6000000,) (6000000,)\n"
     ]
    },
    {
     "data": {
      "image/png": "[encoded data removed]",
      "text/plain": [
       "<matplotlib.figure.Figure at 0x18198ff150>"
      ]
     },
     "metadata": {},
     "output_type": "display_data"
    }
   ],
   "source": [
    "newprob = prob.reshape((prob.shape)[0]*(dat.shape)[1])\n",
    "num = 7\n",
    "plt.plot(dat[2,:,num])\n",
    "print np.median(arr[:,num]),plxval[num-5]\n",
    "\n",
    "#\n",
    "print newprob.shape,arr[:,0].shape\n",
    "n, bins, patches = plt.hist(newprob[np.isfinite(newprob)], 50, normed=1, facecolor='green', alpha=0.75)\n",
    "plt.show()"
   ]
  },
  {
   "cell_type": "code",
   "execution_count": 16,
   "metadata": {},
   "outputs": [
    {
     "name": "stdout",
     "output_type": "stream",
     "text": [
      "[-0.65717185] [-0.20518422] [ 0.00164248] [ 0.00538808] [ -2.52450470e-05] [ 0.00571719]\n"
     ]
    },
    {
     "data": {
      "image/png": "[encoded data removed]",
      "text/plain": [
       "<matplotlib.figure.Figure at 0x181cd45190>"
      ]
     },
     "metadata": {},
     "output_type": "display_data"
    }
   ],
   "source": [
    "best = (like == max(like))\n",
    "a = arr[best,0]#np.median(arr[:,0])\n",
    "b = arr[best,1]#np.median(arr[:,1])\n",
    "c = arr[best,2]#np.median(arr[:,2])\n",
    "d = arr[best,3]#np.median(arr[:,3])\n",
    "e = arr[best,4]#np.median(arr[:,3])\n",
    "f = arr[best,5]\n",
    "\n",
    "print a,b,c,d,e,f\n",
    "rng = [np.min(np.concatenate([mka,mkb])),np.max(np.concatenate([mka,mkb]))]\n",
    "mk = np.linspace(rng[0],rng[1],100)\n",
    "mass1 = 10.0**(a + b*(mk-7.5) + c*(mk-7.5)**2 + d*(mk-7.5)**3 + e*(mk-7.5)**4)\n",
    "a, b, c, d, e = result1\n",
    "mass2 = a + b*(mk-7.5) + c*(mk-7.5)**2 + d*(mk-7.5)**3 + e*(mk-7.5)**4\n",
    "mass3 = 0.585825902+3.87151019e-1*mk-1.21729937e-1*mk**2.+1.05529583e-2*mk**3.-2.72615872e-4*mk**4.\n",
    "\n",
    "## red = new fit\n",
    "## blue = Benedict\n",
    "## green = How to constrain your M dwarf\n",
    "#plt.plot(mk,mass1,color='o')\n",
    "plt.plot(mk,mass2,color='b')\n",
    "plt.plot(mk,mass3,color='g')\n",
    "\n",
    "\n",
    "for i in range(0,60):\n",
    "    index = np.random.randint(len(arr[:,0]))\n",
    "    if np.isfinite(newprob[index]):\n",
    "        a, b, c, d, e, f = arr[index,0:nvar]\n",
    "        mass = (10.0**(a + b*(mk-7.5) + c*(mk-7.5)**2 + d*(mk-7.5)**3 + e*(mk-7.5)**4))*(1+f*(-0.1))\n",
    "        plt.plot(mk,mass,color='r',lw=2,alpha=0.1)\n",
    "\n",
    "plt.plot(mk,mass1,color='black')\n",
    "plt.plot(mk,mass2,color='b')\n",
    "plt.plot(mk,mass3,color='g')\n",
    "\n",
    "plt.show()\n"
   ]
  },
  {
   "cell_type": "code",
   "execution_count": 17,
   "metadata": {},
   "outputs": [
    {
     "name": "stderr",
     "output_type": "stream",
     "text": [
      "/Users/amann/anaconda2/lib/python2.7/site-packages/pyfits/file.py:372: UserWarning: Overwriting existing file 'Mk-Mass_feh_emcee.fits'.\n",
      "  warnings.warn(\"Overwriting existing file %r.\" % self.name)\n",
      "/Users/amann/anaconda2/lib/python2.7/site-packages/pyfits/file.py:372: UserWarning: Overwriting existing file 'Mk-Mass_feh_emcee_accept.fits'.\n",
      "  warnings.warn(\"Overwriting existing file %r.\" % self.name)\n",
      "/Users/amann/anaconda2/lib/python2.7/site-packages/pyfits/file.py:372: UserWarning: Overwriting existing file 'Mk-Mass_feh_emcee_lnprob.fits'.\n",
      "  warnings.warn(\"Overwriting existing file %r.\" % self.name)\n"
     ]
    },
    {
     "ename": "AutocorrError",
     "evalue": "The chain is too short to reliably estimate the autocorrelation time",
     "output_type": "error",
     "traceback": [
      "\u001b[0;31m---------------------------------------------------------------------------\u001b[0m",
      "\u001b[0;31mAutocorrError\u001b[0m                             Traceback (most recent call last)",
      "\u001b[0;32m<ipython-input-17-c553ec93cd6a>\u001b[0m in \u001b[0;36m<module>\u001b[0;34m()\u001b[0m\n\u001b[1;32m      4\u001b[0m \u001b[0mpyfits\u001b[0m\u001b[0;34m.\u001b[0m\u001b[0mwriteto\u001b[0m\u001b[0;34m(\u001b[0m\u001b[0;34m'Mk-Mass_feh_emcee_accept.fits'\u001b[0m\u001b[0;34m,\u001b[0m \u001b[0msampler\u001b[0m\u001b[0;34m.\u001b[0m\u001b[0macceptance_fraction\u001b[0m\u001b[0;34m,\u001b[0m \u001b[0mclobber\u001b[0m\u001b[0;34m=\u001b[0m\u001b[0mTrue\u001b[0m\u001b[0;34m)\u001b[0m\u001b[0;34m\u001b[0m\u001b[0m\n\u001b[1;32m      5\u001b[0m \u001b[0mpyfits\u001b[0m\u001b[0;34m.\u001b[0m\u001b[0mwriteto\u001b[0m\u001b[0;34m(\u001b[0m\u001b[0;34m'Mk-Mass_feh_emcee_lnprob.fits'\u001b[0m\u001b[0;34m,\u001b[0m \u001b[0msampler\u001b[0m\u001b[0;34m.\u001b[0m\u001b[0mlnprobability\u001b[0m\u001b[0;34m,\u001b[0m \u001b[0mclobber\u001b[0m\u001b[0;34m=\u001b[0m\u001b[0mTrue\u001b[0m\u001b[0;34m)\u001b[0m\u001b[0;34m\u001b[0m\u001b[0m\n\u001b[0;32m----> 6\u001b[0;31m \u001b[0mpyfits\u001b[0m\u001b[0;34m.\u001b[0m\u001b[0mwriteto\u001b[0m\u001b[0;34m(\u001b[0m\u001b[0;34m'Mk-Mass_feh_emcee_acor.fits'\u001b[0m\u001b[0;34m,\u001b[0m \u001b[0msampler\u001b[0m\u001b[0;34m.\u001b[0m\u001b[0macor\u001b[0m\u001b[0;34m,\u001b[0m \u001b[0mclobber\u001b[0m\u001b[0;34m=\u001b[0m\u001b[0mTrue\u001b[0m\u001b[0;34m)\u001b[0m\u001b[0;34m\u001b[0m\u001b[0m\n\u001b[0m",
      "\u001b[0;32m/Users/amann/anaconda2/lib/python2.7/site-packages/emcee/ensemble.pyc\u001b[0m in \u001b[0;36macor\u001b[0;34m(self)\u001b[0m\n\u001b[1;32m    474\u001b[0m \u001b[0;34m\u001b[0m\u001b[0m\n\u001b[1;32m    475\u001b[0m         \"\"\"\n\u001b[0;32m--> 476\u001b[0;31m         \u001b[0;32mreturn\u001b[0m \u001b[0mself\u001b[0m\u001b[0;34m.\u001b[0m\u001b[0mget_autocorr_time\u001b[0m\u001b[0;34m(\u001b[0m\u001b[0;34m)\u001b[0m\u001b[0;34m\u001b[0m\u001b[0m\n\u001b[0m\u001b[1;32m    477\u001b[0m \u001b[0;34m\u001b[0m\u001b[0m\n\u001b[1;32m    478\u001b[0m     \u001b[0;32mdef\u001b[0m \u001b[0mget_autocorr_time\u001b[0m\u001b[0;34m(\u001b[0m\u001b[0mself\u001b[0m\u001b[0;34m,\u001b[0m \u001b[0mlow\u001b[0m\u001b[0;34m=\u001b[0m\u001b[0;36m10\u001b[0m\u001b[0;34m,\u001b[0m \u001b[0mhigh\u001b[0m\u001b[0;34m=\u001b[0m\u001b[0mNone\u001b[0m\u001b[0;34m,\u001b[0m \u001b[0mstep\u001b[0m\u001b[0;34m=\u001b[0m\u001b[0;36m1\u001b[0m\u001b[0;34m,\u001b[0m \u001b[0mc\u001b[0m\u001b[0;34m=\u001b[0m\u001b[0;36m10\u001b[0m\u001b[0;34m,\u001b[0m \u001b[0mfast\u001b[0m\u001b[0;34m=\u001b[0m\u001b[0mFalse\u001b[0m\u001b[0;34m)\u001b[0m\u001b[0;34m:\u001b[0m\u001b[0;34m\u001b[0m\u001b[0m\n",
      "\u001b[0;32m/Users/amann/anaconda2/lib/python2.7/site-packages/emcee/ensemble.pyc\u001b[0m in \u001b[0;36mget_autocorr_time\u001b[0;34m(self, low, high, step, c, fast)\u001b[0m\n\u001b[1;32m    501\u001b[0m         return autocorr.integrated_time(np.mean(self.chain, axis=0), axis=0,\n\u001b[1;32m    502\u001b[0m                                         \u001b[0mlow\u001b[0m\u001b[0;34m=\u001b[0m\u001b[0mlow\u001b[0m\u001b[0;34m,\u001b[0m \u001b[0mhigh\u001b[0m\u001b[0;34m=\u001b[0m\u001b[0mhigh\u001b[0m\u001b[0;34m,\u001b[0m \u001b[0mstep\u001b[0m\u001b[0;34m=\u001b[0m\u001b[0mstep\u001b[0m\u001b[0;34m,\u001b[0m \u001b[0mc\u001b[0m\u001b[0;34m=\u001b[0m\u001b[0mc\u001b[0m\u001b[0;34m,\u001b[0m\u001b[0;34m\u001b[0m\u001b[0m\n\u001b[0;32m--> 503\u001b[0;31m                                         fast=fast)\n\u001b[0m\u001b[1;32m    504\u001b[0m \u001b[0;34m\u001b[0m\u001b[0m\n\u001b[1;32m    505\u001b[0m \u001b[0;34m\u001b[0m\u001b[0m\n",
      "\u001b[0;32m/Users/amann/anaconda2/lib/python2.7/site-packages/emcee/autocorr.pyc\u001b[0m in \u001b[0;36mintegrated_time\u001b[0;34m(x, low, high, step, c, full_output, axis, fast)\u001b[0m\n\u001b[1;32m    116\u001b[0m             \u001b[0;32mbreak\u001b[0m\u001b[0;34m\u001b[0m\u001b[0m\n\u001b[1;32m    117\u001b[0m \u001b[0;34m\u001b[0m\u001b[0m\n\u001b[0;32m--> 118\u001b[0;31m     raise AutocorrError(\"The chain is too short to reliably estimate \"\n\u001b[0m\u001b[1;32m    119\u001b[0m                         \"the autocorrelation time\")\n\u001b[1;32m    120\u001b[0m \u001b[0;34m\u001b[0m\u001b[0m\n",
      "\u001b[0;31mAutocorrError\u001b[0m: The chain is too short to reliably estimate the autocorrelation time"
     ]
    }
   ],
   "source": [
    "## save out the relevant chains\n",
    "import pyfits\n",
    "pyfits.writeto('Mk-Mass_feh_emcee.fits', sampler.chain, clobber=True)\n",
    "pyfits.writeto('Mk-Mass_feh_emcee_accept.fits', sampler.acceptance_fraction, clobber=True)\n",
    "pyfits.writeto('Mk-Mass_feh_emcee_lnprob.fits', sampler.lnprobability, clobber=True)\n",
    "pyfits.writeto('Mk-Mass_feh_emcee_acor.fits', sampler.acor, clobber=True)"
   ]
  },
  {
   "cell_type": "code",
   "execution_count": null,
   "metadata": {},
   "outputs": [],
   "source": []
  }
 ],
 "metadata": {
  "anaconda-cloud": {},
  "kernelspec": {
   "display_name": "Python 2",
   "language": "python",
   "name": "python2"
  },
  "language_info": {
   "codemirror_mode": {
    "name": "ipython",
    "version": 2
   },
   "file_extension": ".py",
   "mimetype": "text/x-python",
   "name": "python",
   "nbconvert_exporter": "python",
   "pygments_lexer": "ipython2",
   "version": "2.7.14"
  }
 },
 "nbformat": 4,
 "nbformat_minor": 1
}
