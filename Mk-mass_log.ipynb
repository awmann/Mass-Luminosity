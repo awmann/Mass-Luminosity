{
 "cells": [
  {
   "cell_type": "code",
   "execution_count": 1,
   "metadata": {
    "collapsed": true
   },
   "outputs": [],
   "source": [
    "import emcee\n",
    "import matplotlib\n",
    "import numpy as np\n",
    "import corner\n",
    "import scipy.optimize as op\n",
    "\n",
    "%matplotlib inline  \n",
    "\n",
    "# some important variables\n",
    "g = 6.6743e-8\n",
    "msun = 1.989e33\n",
    "au = 1.496e13\n",
    "pi = 3.14159"
   ]
  },
  {
   "cell_type": "code",
   "execution_count": 2,
   "metadata": {
    "collapsed": true
   },
   "outputs": [],
   "source": [
    "nbin = 50 ## number of binaries in sample\n",
    "\n",
    "## read in delK, parallax\n",
    "delk = np.zeros(nbin)\n",
    "edelk = np.zeros(nbin)\n",
    "plxval = np.zeros(nbin)\n",
    "plxprior = np.zeros(nbin)\n",
    "name = strs = ['']*nbin\n",
    "k = np.zeros(nbin)\n",
    "ek = np.zeros(nbin)\n",
    "f = open('data2.txt','r')\n",
    "header1 = f.readline()\n",
    "i=0\n",
    "for line in f:\n",
    "    line = line.strip()\n",
    "    columns = line.split()\n",
    "    name[i] = columns[0]\n",
    "    delk[i] = float(columns[1])\n",
    "    edelk[i] = float(columns[2])\n",
    "    plxval[i] = float(columns[3])\n",
    "    plxprior[i] = float(columns[4])\n",
    "    k[i] = float(columns[5])\n",
    "    ek[i] = float(columns[6])\n",
    "    i+=1\n",
    "f.close()\n",
    "\n",
    "## now for the sma**3/per**2\n",
    "f = open('fits.txt','r')\n",
    "header1 = f.readline()\n",
    "i=0\n",
    "smaper = np.zeros(nbin)\n",
    "esmaper = np.zeros(nbin)\n",
    "for line in f:\n",
    "    line = line.strip()\n",
    "    columns = line.split()\n",
    "    smaper[i] = float(columns[0])\n",
    "    esmaper[i] = float(columns[1])\n",
    "    i+=1\n",
    "f.close()\n",
    "\n",
    "fluxratio = 10.0**(delk/2.5)\n",
    "del_eps = 2.5*np.log10(1.0+1.0/fluxratio)\n",
    "kp = del_eps+k\n",
    "ks = kp + delk\n",
    "\n",
    "# compute MC errors on Kp, Ks\n",
    "mcsize = 50000\n",
    "ekp = kp*0.\n",
    "eks = ks*0.\n",
    "for i in range(0,len(ks)):\n",
    "    ktmp = k[i]+ek[i]*np.random.standard_normal(mcsize)\n",
    "    deltmp = delk[i]+edelk[i]*np.random.standard_normal(mcsize)\n",
    "    fluxratio = 10.0**(deltmp/2.5)\n",
    "    del_eps = 2.5*np.log10(1.0+1.0/fluxratio)\n",
    "    kpt = del_eps+ktmp\n",
    "    kst = kp[i] + ktmp\n",
    "    ekp[i] = np.std(kpt)\n",
    "    eks[i] = np.std(kst)\n",
    "\n",
    "\n",
    "\n",
    "result_ben = np.array([0.2311,-0.1352, 0.0400, 0.0038, -0.0032]) # benedict fit value\n",
    "result1 = np.array([0.23323026,-0.10887911, 0.019990399, 0.00027286744, -0.00046073982])# Mann fit value\n",
    "result2 = plxval\n",
    "result_delf = [0.001*1.8,0.001*6.12,0.001*13.205,-6.2315*0.001,0.001*0.37529]\n",
    "result3= [-0.63373414,-0.20122973,-0.0067369013,0.0024262687,-0.00013746096] ## one I measured in IDL\n",
    "result = np.concatenate([result3,result2])"
   ]
  },
  {
   "cell_type": "code",
   "execution_count": 3,
   "metadata": {
    "collapsed": true
   },
   "outputs": [],
   "source": [
    "factor = (au**3.)*((4.0*np.pi**2.)/(g*msun))\n",
    "empmass = factor*smaper/plxval**3\n",
    "e_empmass = empmass*np.sqrt((esmaper/smaper)**2 +9.0*(plxprior/plxval)**2)"
   ]
  },
  {
   "cell_type": "code",
   "execution_count": 4,
   "metadata": {
    "collapsed": false
   },
   "outputs": [
    {
     "name": "stdout",
     "output_type": "stream",
     "text": [
      "PMJ02133+3648 0.245 0.035 0.2585 0.0018 0.708 8.1313 9.6003 0.018 0.018 0.173 0.086 0.4\n",
      "HIP11542   1.457 0.183 1.2962 0.0041 0.314 4.6013 4.8643 0.019 0.018 0.667 0.629 0.9\n",
      "HD239960   0.460 0.011 0.4471 0.0030 0.664 7.1190 8.1570 0.029 0.029 0.277 0.171 1.2\n",
      "HD15285    1.389 0.079 1.3083 0.0040 0.306 4.6580 4.7310 0.020 0.018 0.659 0.649 1.0\n",
      "Gl844      0.871 0.095 0.9182 0.0047 0.515 5.8306 5.9476 0.022 0.021 0.469 0.449 0.5\n",
      "HIP9724    0.514 0.027 0.5570 0.0035 0.624 5.9100 9.2460 0.020 0.020 0.456 0.101 1.6\n",
      "Gl831      0.418 0.003 0.4225 0.0028 0.672 7.1793 8.3793 0.020 0.020 0.269 0.153 0.9\n",
      "Gl804      0.996 0.135 0.9442 0.0045 0.481 5.2621 6.3851 0.017 0.016 0.565 0.379 0.4\n",
      "Gl792      0.356 0.028 0.3150 0.0021 0.681 8.0542 8.6312 0.017 0.016 0.179 0.136 1.5\n",
      "Gl695C     0.868 0.023 0.8432 0.0046 0.543 5.9652 6.2712 0.018 0.016 0.446 0.397 1.1\n",
      "Gl54       0.750 0.010 0.7405 0.0043 0.575 6.1084 6.8054 0.027 0.024 0.423 0.318 0.9\n",
      "Gl494      0.667 0.035 0.6527 0.0034 0.527 5.2580 9.5780 0.016 0.016 0.566 0.087 0.4\n",
      "Gl469      0.504 0.011 0.5315 0.0034 0.641 6.6988 7.8328 0.026 0.026 0.333 0.199 2.4\n",
      "Gl381      0.765 0.082 0.6906 0.0041 0.591 6.2132 7.0552 0.027 0.026 0.406 0.285 0.9\n",
      "Gl330      0.915 0.142 0.8174 0.0044 0.536 5.6626 6.7876 0.023 0.023 0.497 0.320 0.7\n",
      "Gl310      0.778 0.067 0.8696 0.0040 0.459 5.0195 7.2165 0.015 0.015 0.605 0.265 1.4\n",
      "Gl190      0.835 0.053 0.8057 0.0045 0.558 6.1790 6.2870 0.020 0.018 0.411 0.394 0.5\n",
      "Gl125      0.905 0.081 0.9651 0.0045 0.469 5.1694 6.3494 0.016 0.016 0.581 0.385 0.7\n",
      "GJ661      0.594 0.054 0.6623 0.0040 0.604 6.5889 6.8329 0.025 0.023 0.348 0.314 1.3\n",
      "GJ65       0.237 0.005 0.2324 0.0016 0.675 8.9041 9.0151 0.037 0.021 0.119 0.113 0.9\n",
      "GJ600      1.228 0.032 1.2281 0.0044 0.362 4.9445 4.9795 0.025 0.023 0.617 0.611 0.0\n",
      "GJ570      0.837 0.052 0.9382 0.0046 0.488 5.3249 6.3559 0.231 0.230 0.555 0.384 1.9\n",
      "GJ4287     0.954 0.090 1.1227 0.0045 0.401 4.7979 5.7439 0.027 0.027 0.639 0.484 1.9\n",
      "GJ4210     0.998 0.220 0.7901 0.0043 0.549 5.7831 6.8381 0.024 0.024 0.477 0.313 0.9\n",
      "HIP46706   0.780 0.075 0.8060 0.0045 0.558 6.1677 6.2967 0.022 0.020 0.413 0.393 0.3\n",
      "Gl277      0.710 0.069 0.6946 0.0039 0.564 5.7318 7.7278 0.017 0.017 0.486 0.209 0.2\n",
      "GJ3421     0.248 0.009 0.2522 0.0017 0.677 8.7106 8.8676 0.022 0.021 0.131 0.121 0.4\n",
      "GJ340      1.338 0.200 1.3975 0.0031 0.225 4.3323 4.3563 0.020 0.017 0.700 0.697 0.3\n",
      "GJ3010     0.586 0.044 0.4792 0.0031 0.653 7.3066 7.5686 0.025 0.024 0.254 0.225 2.4\n",
      "GJ234      0.333 0.002 0.3295 0.0023 0.701 7.5886 9.1436 0.016 0.016 0.223 0.106 1.3\n",
      "GJ22A      0.569 0.011 0.5826 0.0036 0.618 6.1864 8.1354 0.023 0.023 0.410 0.172 1.2\n",
      "GJ2005     0.157 0.006 0.1763 0.0012 0.663 9.3909 9.7079 0.031 0.030 0.095 0.082 3.4\n",
      "GJ1245     0.188 0.001 0.1908 0.0013 0.688 8.9028 9.9978 0.017 0.016 0.119 0.071 1.7\n",
      "GJ1210     0.258 0.022 0.2579 0.0017 0.677 8.7019 8.7809 0.026 0.025 0.131 0.127 0.0\n",
      "GJ1081     0.583 0.043 0.5283 0.0034 0.642 6.7787 7.7487 0.028 0.027 0.321 0.207 1.3\n",
      "GJ1005     0.322 0.002 0.3147 0.0022 0.694 7.8094 9.0074 0.017 0.016 0.201 0.114 2.3\n",
      "G132-25    0.179 0.041 0.2426 0.0016 0.676 8.8401 8.8981 0.021 0.019 0.123 0.120 1.6\n",
      "Gl791.2    0.298 0.020 0.2963 0.0021 0.708 7.8095 9.3805 0.024 0.024 0.201 0.095 0.1\n",
      "GJ1038     1.301 0.204 1.2289 0.0044 0.361 4.9270 4.9920 0.022 0.021 0.620 0.609 0.4\n",
      "GJ3454     0.285 0.021 0.3082 0.0021 0.678 8.2329 8.5139 0.021 0.020 0.164 0.144 1.1\n",
      "Gl301B     1.227 0.144 1.1545 0.0046 0.399 4.9203 5.4473 0.027 0.026 0.621 0.534 0.5\n",
      "Wolf1561   0.168 0.022 0.2300 0.0016 0.698 8.4676 9.6726 0.031 0.031 0.147 0.083 2.8\n",
      "GJ623      0.502 0.004 0.4724 0.0032 0.672 6.4968 9.0678 0.023 0.023 0.362 0.110 5.4\n",
      "GJ4024     0.917 0.139 0.8905 0.0045 0.511 5.5041 6.4691 0.019 0.018 0.524 0.366 0.2\n",
      "Gl747      0.429 0.026 0.4424 0.0029 0.660 7.5507 7.6637 0.021 0.020 0.227 0.215 0.5\n",
      "Gl660      0.606 0.053 0.5675 0.0036 0.631 7.0422 7.0812 0.023 0.021 0.286 0.281 0.7\n",
      "Gl473      0.237 0.009 0.2688 0.0018 0.677 8.6520 8.6570 0.022 0.020 0.135 0.134 3.6\n",
      "GJ3412     0.528 0.007 0.5592 0.0035 0.632 6.5811 7.7211 0.017 0.016 0.350 0.210 3.9\n",
      "GJ748      0.526 0.007 0.5466 0.0035 0.636 6.6328 7.7728 0.025 0.024 0.342 0.205 2.7\n",
      "Gl913      0.890 0.118 0.9064 0.0044 0.488 5.2633 6.6373 0.020 0.020 0.565 0.341 0.1\n"
     ]
    }
   ],
   "source": [
    "## this is mostly for checking things are reasonable\n",
    "mka = kp - 5.0*(np.log10(1000.0/plxval)-1.)\n",
    "mkb = ks - 5.0*(np.log10(1000.0/plxval)-1.)\n",
    "a, b, c, d, e = result3\n",
    "mka_err = 0.02## for now\n",
    "mkb_err = 0.02## for now\n",
    "mass1 = 10.0**(a + b*(mka-7.5) + c*(mka-7.5)**2 + d*(mka-7.5)**3 + e*(mka-7.5)**4)\n",
    "mass2 = 10.0**(a + b*(mkb-7.5) + c*(mkb-7.5)**2 + d*(mkb-7.5)**3 + e*(mkb-7.5)**4)\n",
    "mass1_err = (np.log(10)*(b+2*c*(mka-7.5)+3*d*(mka-7.5)**2+4*e*(mka-7.5)**3))*mass1*mka_err\n",
    "mass2_err = (np.log(10)*(b+2*c*(mkb-7.5)+3*d*(mkb-7.5)**2+4*e*(mkb-7.5)**3))*mass2*mkb_err\n",
    "\n",
    "model_err = np.sqrt(mass1_err**2+mass2_err**2)\n",
    "model = mass1+mass2\n",
    "\n",
    "mk1_tmp = mka[0] + mka_err*np.random.standard_normal(50000)#mka[0]+mka_err[0]*\n",
    "mass1_tmp = a + b*(mk1_tmp-7.5) + c*(mk1_tmp-7.5)**2 + d*(mk1_tmp-7.5)**3 + e*(mk1_tmp-7.5)**4\n",
    "mk2_tmp = mkb[0] + mkb_err*np.random.standard_normal(50000)#mka[0]+mka_err[0]*\n",
    "mass2_tmp = a + b*(mk2_tmp-7.5) + c*(mk2_tmp-7.5)**2 + d*(mk2_tmp-7.5)**3 + e*(mk2_tmp-7.5)**4\n",
    "\n",
    "for i in range(0,len(empmass)):\n",
    "    print \"{:10s}\".format(name[i]), \\\n",
    "    \"{0:.3f}\".format(empmass[i]),\"{0:.3f}\".format(e_empmass[i]), \\\n",
    "    \"{0:.4f}\".format(model[i]),\"{0:.4f}\".format(model_err[i]),\"{0:.3f}\".format(100*model_err[i]/model[i]), \\\n",
    "    \"{0:.4f}\".format(mka[i]),\"{0:.4f}\".format(mkb[i]), \\\n",
    "    \"{0:.3f}\".format(ekp[i]),\"{0:.3f}\".format(eks[i]), \\\n",
    "    \"{0:.3f}\".format(mass1[i]),\"{0:.3f}\".format(mass2[i]), \\\n",
    "    \"{0:.1f}\".format(np.abs(empmass[i]-model[i])/np.sqrt(e_empmass[i]**2+model_err[i]**2))\n",
    "    \n"
   ]
  },
  {
   "cell_type": "code",
   "execution_count": 5,
   "metadata": {
    "collapsed": false
   },
   "outputs": [],
   "source": [
    "def lnlike(theta, smaper, esmaper, kp, ks, ekp, eks):\n",
    "    au = 1.496e13\n",
    "    msun = 1.989e33\n",
    "    g = 6.6743e-8 \n",
    "    a, b, c, d, e = theta[0:5]\n",
    "    mplx = theta[5:theta.size]\n",
    "    if np.min(mplx) <= 0:\n",
    "        return -np.inf\n",
    "    factor = (au**3.)*((4.0*np.pi**2.)/(g*msun))\n",
    "    empmass = factor*smaper/plxval**3\n",
    "    e_empmass = empmass*np.sqrt((esmaper/smaper)**2 +9.*(plxprior/plxval)**2)\n",
    "    mka = kp - 5.0*(np.log10(1000.0/mplx)-1.)\n",
    "    mkb = ks - 5.0*(np.log10(1000.0/mplx)-1.)\n",
    "    mass1 = 10.0**(a + b*mka + c*mka**2 + d*mka**3 + e*mka**4)\n",
    "    mass2 = 10.0**(a + b*mkb + c*mkb**2 + d*mkb**3 + e*mkb**4)\n",
    "    if np.min(mass1) <= 0:\n",
    "        return -np.inf\n",
    "    if np.min(mass2) <= 0:\n",
    "        return -np.inf\n",
    "    mka_err = ekp\n",
    "    mkb_err = eks\n",
    "    mass1_err = np.abs((np.log(10)*(b+2*c*mka+3*d*mka**2+4*e*mka**3))*mass1*mka_err)\n",
    "    mass2_err = np.abs((np.log(10)*(b+2*c*mkb+3*d*mkb**2+4*e*mkb**3))*mass2*mkb_err)\n",
    "    model_err = np.sqrt(mass1_err**2+mass2_err**2)\n",
    "    model = mass1+mass2\n",
    "    inv_sigma2 = 1.0/np.sqrt(e_empmass**2+model_err**2)\n",
    "    return -0.5*(np.sum((empmass-model)**2*inv_sigma2 - np.log(inv_sigma2)))"
   ]
  },
  {
   "cell_type": "code",
   "execution_count": 6,
   "metadata": {
    "collapsed": true
   },
   "outputs": [],
   "source": [
    "def lnprior(theta, plxval, plxprior):\n",
    "    mplx = theta[5:theta.size]\n",
    "    lp = 0\n",
    "    if np.min(mplx) <= 0:\n",
    "        return -np.inf\n",
    "    for i in range(0,len(mplx)):\n",
    "        lp += ((np.float(mplx[i])-np.float(plxval[i]))**2)/(np.float(plxprior[i])**2)\n",
    "    lp*=(-0.5)\n",
    "    if not np.isfinite(lp):\n",
    "        return 0.0\n",
    "    return lp"
   ]
  },
  {
   "cell_type": "code",
   "execution_count": 7,
   "metadata": {
    "collapsed": true
   },
   "outputs": [],
   "source": [
    "def lnprob(theta, plxval, plxprior, smaper, esmaper, kp, ks, ekp, eks):\n",
    "    lp = lnprior(theta, plxval, plxprior)\n",
    "    if not np.isfinite(lp):\n",
    "        return -np.inf\n",
    "    like = lnlike(theta, smaper, esmaper, kp, ks, ekp, eks)\n",
    "    if not np.isfinite(like):\n",
    "        return -np.inf\n",
    "    val = lp + like\n",
    "    return val"
   ]
  },
  {
   "cell_type": "code",
   "execution_count": null,
   "metadata": {
    "collapsed": false
   },
   "outputs": [],
   "source": [
    "ndim, nwalkers = result.size, 600\n",
    "pos = [result + 5e-2*result*np.random.randn(ndim) for i in range(nwalkers)]\n",
    "sampler = emcee.EnsembleSampler(nwalkers, ndim, lnprob, \n",
    "                                args=(plxval, plxprior, smaper, esmaper, kp, ks, ekp, eks),\n",
    "                               threads=8)\n",
    "## burn-in and/or testing\n",
    "pos, prob, state = sampler.run_mcmc(pos, 1000)\n",
    "sampler.reset()"
   ]
  },
  {
   "cell_type": "code",
   "execution_count": null,
   "metadata": {
    "collapsed": true,
    "scrolled": true
   },
   "outputs": [],
   "source": [
    "import time\n",
    "start_time = time.time()\n",
    "nsteps = 100000\n",
    "thin = 500\n",
    "kwargs = {'thin': thin }\n",
    "for i, result in enumerate(sampler.run_mcmc(pos, nsteps, **kwargs)):\n",
    "    if (i+1) % 1000 == 0:\n",
    "        print(\"{0:5.1%}\".format(float(i) / nsteps))\n",
    "print 'Done, runtime:'\n",
    "print (time.time() - start_time)/3600\n",
    "print(\"Mean acceptance fraction: {0:.3f}\".format(np.mean(sampler.acceptance_fraction)))"
   ]
  },
  {
   "cell_type": "code",
   "execution_count": null,
   "metadata": {
    "collapsed": true
   },
   "outputs": [],
   "source": [
    "import corner\n",
    "from matplotlib.backends.backend_pdf import PdfPages\n",
    "dat = sampler.chain\n",
    "#print dat.shape,dat.size\n",
    "#print dat.reshape(dat.size)\n",
    "arr = dat.reshape(nwalkers*nsteps/thin,5+nbin)\n",
    "\n",
    "fig = corner.corner(arr[:,0:5], labels=['a',r'b','c',r'd',r'e'], show_titles=True, title_kwargs={\"fontsize\": 11},title_fmt='.4f')\n",
    "pp = PdfPages('output_params_log.pdf')\n",
    "pp.savefig(fig)\n",
    "pp.close()"
   ]
  },
  {
   "cell_type": "code",
   "execution_count": null,
   "metadata": {
    "collapsed": true
   },
   "outputs": [],
   "source": [
    "dat = sampler.chain\n",
    "prob = sampler.lnprobability\n",
    "accept = sampler.acceptance_fraction\n",
    "arr = dat.reshape((dat.shape)[0]*(dat.shape)[1],dat.shape[2])\n",
    "for i in range(5,dat.shape[2]):\n",
    "    print \"{:10s}\".format(name[i-5]), \\\n",
    "    \"{0:.4f}\".format(np.median(arr[:,i])),\"{0:.4f}\".format(np.std(arr[:,i])),\"{0:.4f}\".format(plxprior[i-5]), \\\n",
    "    \"{0:.4f}\".format(plxval[i-5]),\"{0:.4f}\".format((plxval[i-5]-np.median(arr[:,i]))/plxprior[i-5]), \\\n",
    "    \"{0:.4f}\".format((plxval[i-5]-np.median(arr[:,i]))/np.sqrt(plxprior[i-5]**2+np.std(arr[:,i])**2))\n",
    "    "
   ]
  },
  {
   "cell_type": "code",
   "execution_count": null,
   "metadata": {
    "collapsed": true
   },
   "outputs": [],
   "source": [
    "print a,b,c,d,e\n",
    "factor = (au**3.)*((4.0*np.pi**2.)/(g*msun))\n",
    "mass = factor*smaper/plxval**3\n",
    "#e_empmass = empmass*np.sqrt((esmaper/smaper)**2 +9.0*(plxprior/plxval)**2)\n",
    "#sma_au = sma*au*(1000/plxval)\n",
    "#mass = (4.*(pi**2.))*((sma_au**3./per**2.)/g)/msun\n",
    "\n",
    "mka = kp - 5.0*(np.log10(1000.0/plxval)-1.)\n",
    "mkb = ks - 5.0*(np.log10(1000.0/plxval)-1.)\n",
    "\n",
    "a = np.median(arr[:,0])\n",
    "b = np.median(arr[:,1])\n",
    "c = np.median(arr[:,2])\n",
    "d = np.median(arr[:,3])\n",
    "e = np.median(arr[:,4])\n",
    "#mass1 = a + b*(mka-7.5) + c*(mka-7.5)**2 + d*(mka-7.5)**3 + e*(mka-7.5)**4\n",
    "#mass2 = a + b*(mkb-7.5) + c*(mkb-7.5)**2 + d*(mkb-7.5)**3 + e*(mkb-7.5)**4\n",
    "mass1 = 10.0**(a + b*mka + c*mka**2 + d*mka**3 + e*mka**4)\n",
    "mass2 = 10.0**(a + b*mkb + c*mkb**2 + d*mkb**3 + e*mkb**4)\n",
    "sysmass = mass1+mass2\n",
    "a, b, c, d, e = result1\n",
    "mass1 = a + b*(mka-7.5) + c*(mka-7.5)**2 + d*(mka-7.5)**3 + e*(mka-7.5)**4\n",
    "mass2 = a + b*(mkb-7.5) + c*(mkb-7.5)**2 + d*(mkb-7.5)**3 + e*(mkb-7.5)**4\n",
    "sysmass_mann = mass1+mass2\n",
    "a, b, c, d, e = result_ben\n",
    "mass1 = a + b*(mka-7.5) + c*(mka-7.5)**2 + d*(mka-7.5)**3 + e*(mka-7.5)**4\n",
    "mass2 = a + b*(mkb-7.5) + c*(mkb-7.5)**2 + d*(mkb-7.5)**3 + e*(mkb-7.5)**4\n",
    "sysmass_ben = mass1+mass2"
   ]
  },
  {
   "cell_type": "code",
   "execution_count": null,
   "metadata": {
    "collapsed": true
   },
   "outputs": [],
   "source": [
    "import matplotlib.pyplot as plt\n",
    "\n",
    "rng = [np.min(np.concatenate([sysmass,sysmass_ben,mass])),\n",
    "         np.max(np.concatenate([sysmass,sysmass_ben,mass]))]\n",
    "plt.figure()\n",
    "plt.plot(sysmass,mass,'ro')\n",
    "plt.ylabel('Orbital Mass')\n",
    "plt.xlabel('Predicted')\n",
    "plt.plot(sysmass_ben,mass,'ro',color='b')\n",
    "plt.plot(rng,rng)\n",
    "plt.plot(sysmass_mann,mass,'ro',color='g')\n",
    "plt.plot(rng,rng)\n",
    "## blue = benedict\n",
    "## green = mann idl\n",
    "## red = python"
   ]
  },
  {
   "cell_type": "code",
   "execution_count": null,
   "metadata": {
    "collapsed": true
   },
   "outputs": [],
   "source": [
    "#num = 7\n",
    "#plt.plot(dat[2,:,num])\n",
    "#print np.median(arr[:,num]),plxval[num-5]\n",
    "newprob = prob.reshape((prob.shape)[0]*(dat.shape)[1])\n",
    "print newprob.shape,arr[:,0].shape\n",
    "n, bins, patches = plt.hist(newprob[np.isfinite(newprob)], 50, range=[10,45],normed=1, facecolor='green', alpha=0.75)\n",
    "plt.show()"
   ]
  },
  {
   "cell_type": "code",
   "execution_count": null,
   "metadata": {
    "collapsed": true
   },
   "outputs": [],
   "source": [
    "a = np.median(arr[np.isfinite(newprob),0])\n",
    "b = np.median(arr[np.isfinite(newprob),1])\n",
    "c = np.median(arr[np.isfinite(newprob),2])\n",
    "d = np.median(arr[np.isfinite(newprob),3])\n",
    "e = np.median(arr[np.isfinite(newprob),4])\n",
    "print np.median(a),np.median(b),np.median(c),np.median(d),np.median(e)\n",
    "\n",
    "rng = [np.min(np.concatenate([mka,mkb])),np.max(np.concatenate([mka,mkb]))]\n",
    "print rng\n",
    "mk = np.linspace(rng[0],rng[1],100)\n",
    "mass1 = 10.0**(a + b*mka + c*mka**2 + d*mka**3 + e*mka**4)\n",
    "a, b, c, d, e = result1\n",
    "mass2 = a + b*(mk-7.5) + c*(mk-7.5)**2 + d*(mk-7.5)**3 + e*(mk-7.5)**4\n",
    "mass3 = 0.585825902+3.87151019e-1*mk-1.21729937e-1*mk**2.+1.05529583e-2*mk**3.-2.72615872e-4*mk**4.\n",
    "\n",
    "## red = new fit\n",
    "## blue = Benedict\n",
    "## green = How to constrain your M dwarf\n",
    "plt.plot(mk,mass1,color='r')\n",
    "plt.plot(mk,mass2,color='b')\n",
    "plt.plot(mk,mass3,color='g')\n",
    "\n",
    "\n",
    "for i in range(0,60):\n",
    "    index = np.random.randint(len(arr[:,0]))\n",
    "    if np.isfinite(newprob[index]):\n",
    "        a, b, c, d, e = arr[index,0:5]\n",
    "        #mass = a + b*(mk-7.5) + c*(mk-7.5)**2 + d*(mk-7.5)**3 + e*(mk-7.5)**4\n",
    "        mass = 10.0**(a + b*mka + c*mka**2 + d*mka**3 + e*mka**4)\n",
    "        plt.plot(mk,mass,color='r',lw=2,alpha=0.1)\n",
    "\n",
    "plt.plot(mk,mass1,color='r')\n",
    "plt.plot(mk,mass2,color='b')\n",
    "plt.plot(mk,mass3,color='g')\n",
    "\n",
    "plt.show()\n"
   ]
  },
  {
   "cell_type": "code",
   "execution_count": null,
   "metadata": {
    "collapsed": true
   },
   "outputs": [],
   "source": [
    "## save out the relevant chains\n",
    "import pyfits\n",
    "pyfits.writeto('Mk-Mass_log_emcee.fits', sampler.chain, clobber=True)\n",
    "pyfits.writeto('Mk-Mass_log_emcee_accept.fits', sampler.acceptance_fraction, clobber=True)\n",
    "pyfits.writeto('Mk-Mass_log_emcee_lnprob.fits', sampler.lnprobability, clobber=True)\n",
    "pyfits.writeto('Mk-Mass_log_emcee_acor.fits', sampler.acor, clobber=True)"
   ]
  },
  {
   "cell_type": "code",
   "execution_count": null,
   "metadata": {
    "collapsed": true
   },
   "outputs": [],
   "source": []
  }
 ],
 "metadata": {
  "anaconda-cloud": {},
  "kernelspec": {
   "display_name": "Python [Root]",
   "language": "python",
   "name": "Python [Root]"
  },
  "language_info": {
   "codemirror_mode": {
    "name": "ipython",
    "version": 2
   },
   "file_extension": ".py",
   "mimetype": "text/x-python",
   "name": "python",
   "nbconvert_exporter": "python",
   "pygments_lexer": "ipython2",
   "version": "2.7.12"
  }
 },
 "nbformat": 4,
 "nbformat_minor": 1
}
