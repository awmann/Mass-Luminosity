{
 "cells": [
  {
   "cell_type": "code",
   "execution_count": 1,
   "metadata": {
    "collapsed": true
   },
   "outputs": [],
   "source": [
    "import emcee\n",
    "import matplotlib\n",
    "import numpy as np\n",
    "import corner\n",
    "import scipy.optimize as op\n",
    "\n",
    "%matplotlib inline  "
   ]
  },
  {
   "cell_type": "code",
   "execution_count": 2,
   "metadata": {
    "collapsed": true
   },
   "outputs": [],
   "source": [
    "# some important variables\n",
    "g = 6.6743e-8\n",
    "msun = 1.989e33\n",
    "au = 1.496e13\n",
    "pi = 3.14159"
   ]
  },
  {
   "cell_type": "code",
   "execution_count": 3,
   "metadata": {
    "collapsed": true
   },
   "outputs": [],
   "source": [
    "name = ['GJ1005','GJ22','GJ65','GJ1081','GJ234','G250-029','G193-027','GJ469','GJ473',\n",
    "       'GJ623','GJ748','GJ1245','GJ791.2','GJ831','Gl747','GJ2005']\n",
    "sma = np.array([0.3037,0.5106,2.0458,0.2712,1.0932,0.4417,0.1564,0.3139,0.9167,\n",
    "                0.2397,0.148,0.8267,0.1037,0.1448,0.2941,0.4619])\n",
    "esma = np.array([0.0005,0.0007,0.0066,0.0027,0.0007,0.0009,0.0008,0.0008,0.0017,\n",
    "                0.0014,0.0004,0.0008,0.0005,0.0005,0.0011,0.0006])\n",
    "per = np.array([1666.1,5694.2,9612,4066.1,6070.1,4946.3,1195.5,4223,5772.3,\n",
    "                  1367.4,901.7,6147,538.6,704.9,2102.151,17.3131*365.2422])\n",
    "eper = np.array([2.5,14.9,12,27.5,10.2,2.2,1.4,2.9,9.4,\n",
    "                 0.6,0.3,17,0.1,0.5,0.328,0.0097*365.2422])\n",
    "per *= 24*3600.0\n",
    "eper *= 24*3600.0\n",
    "k = np.array([6.39, 6.04, 5.33, 7.34, 5.49, 6.35, 7.78, 6.96, 6.04, \n",
    "             5.92, 6.29, 6.85, 7.31, 6.38,  6.416,  8.241])\n",
    "delk = np.array([1.23, 1.93, 0.16, 0.96, 1.58, 1.03, 0.10, 1.01, 0.00, \n",
    "                 2.87, 1.09, 1.05, 1.28, 1.20, 0.113,0.313])\n",
    "## probably fix these later...\n",
    "ek = np.array([  0.02, 0.02, 0.02, 0.02, 0.04, 0.02, 0.02, 0.04, 0.02,\n",
    "                 0.02, 0.02, 0.02, 0.02, 0.02, 0.02, 0.02])\n",
    "edelk = np.array([  0.02, 0.03, 0.02, 0.01, 0.02, 0.07, 0.02, 0.02, 0.01,\n",
    "                 0.14, 0.07, 0.01, 0.10, 0.01, 0.03, 0.01])\n",
    "fluxratio = 10.0**(delk/2.5)\n",
    "del_eps = 2.5*np.log10(1.0+1.0/fluxratio)\n",
    "kp = del_eps+k\n",
    "ks = kp + delk\n",
    "\n",
    "# compute MC errors on Kp, Ks\n",
    "mcsize = 50000\n",
    "ekp = kp*0.\n",
    "eks = ks*0.\n",
    "for i in range(0,len(ks)):\n",
    "    ktmp = k[i]+ek[i]*np.random.standard_normal(mcsize)\n",
    "    deltmp = delk[i]+edelk[i]*np.random.standard_normal(mcsize)\n",
    "    fluxratio = 10.0**(deltmp/2.5)\n",
    "    del_eps = 2.5*np.log10(1.0+1.0/fluxratio)\n",
    "    kpt = del_eps+ktmp\n",
    "    kst = kp[i] + ktmp\n",
    "    ekp[i] = np.std(kpt)\n",
    "    eks[i] = np.std(kst)\n",
    "    \n",
    "plxval = np.array([166.6,99.2,373.7,65.2,241.0,95.6,112.6,76.4,235.5,\n",
    "                  125.0,98.4,219.9,113.4,125.3,122.3,128.49])\n",
    "plxprior = np.array([0.3,0.6,2.7,0.4,0.4,0.3,1.4,0.5,2.9,\n",
    "                    0.3,0.3,0.5,0.2,0.3,2.5,1.5])\n",
    "\n",
    "# benedict fit value\n",
    "result1 = np.array([0.2311,-0.1352, 0.0400, 0.0038, -0.0032])\n",
    "result2 = plxval\n",
    "result = np.concatenate([result1,result2])"
   ]
  },
  {
   "cell_type": "code",
   "execution_count": 4,
   "metadata": {
    "collapsed": false
   },
   "outputs": [
    {
     "name": "stdout",
     "output_type": "stream",
     "text": [
      "GJ1005     0.291 0.001 0.3080 0.0047 1.523 7.8015 9.0315 0.021 0.020 0.194 0.114\n",
      "GJ22       0.561 0.002 0.6214 0.0045 0.728 6.1921 8.1221 0.020 0.020 0.458 0.163\n",
      "GJ65       0.237 0.000 0.2335 0.0052 2.230 8.8681 9.0281 0.022 0.020 0.120 0.114\n",
      "GJ1081     0.581 0.006 0.5459 0.0040 0.735 6.7866 7.7466 0.020 0.020 0.346 0.200\n",
      "GJ234      0.338 0.001 0.3231 0.0049 1.523 7.6278 9.2078 0.040 0.040 0.214 0.109\n",
      "G250-029   0.538 0.000 0.5921 0.0041 0.692 6.6077 7.6377 0.028 0.020 0.379 0.213\n",
      "G193-027   0.250 0.000 0.2451 0.0049 2.002 8.7414 8.8414 0.022 0.020 0.125 0.121\n",
      "GJ469      0.519 0.001 0.5551 0.0040 0.727 6.7365 7.7465 0.040 0.040 0.355 0.200\n",
      "GJ473      0.236 0.001 0.2572 0.0047 1.820 8.6525 8.6525 0.021 0.020 0.129 0.129\n",
      "GJ623      0.503 0.000 0.5078 0.0054 1.068 6.4791 9.3491 0.022 0.020 0.403 0.104\n",
      "GJ748      0.558 0.000 0.5891 0.0041 0.698 6.5939 7.6839 0.027 0.020 0.381 0.208\n",
      "GJ1245     0.188 0.001 0.1979 0.0072 3.659 8.9110 9.9610 0.020 0.020 0.118 0.080\n",
      "GJ791.2    0.352 0.000 0.2964 0.0049 1.643 7.8743 9.1543 0.031 0.020 0.186 0.110\n",
      "GJ831      0.414 0.000 0.4220 0.0041 0.975 7.1803 8.3803 0.020 0.020 0.278 0.144\n",
      "Gl747      0.420 0.000 0.4344 0.0038 0.883 7.5507 7.6637 0.025 0.020 0.224 0.210\n",
      "GJ2005     0.155 0.000 0.1957 0.0070 3.565 9.3927 9.7057 0.020 0.020 0.103 0.093\n"
     ]
    }
   ],
   "source": [
    "## this is mostly for checking things are reasonable\n",
    "au = 1.496e13\n",
    "msun = 1.989e33\n",
    "g = 6.6743e-8 \n",
    "empsma = sma*(1000.0/plxval)*au\n",
    "empmass = (4.0*np.pi**2.*(empsma**3./per**2.)/g)/msun\n",
    "#e_empmass = empmass*np.sqrt(3.0*(esma/empsma)**2. + 2.0*(eper/per)**2.)\n",
    "e_empmass = np.sqrt((esma*((12.0*np.pi**2*(empsma**2/per**2)/g)/msun))**2 + \n",
    "            (eper*(6.0*np.pi**2*empsma**3/per**3)/g/msun)**2)\n",
    "mka = kp - 5.0*(np.log10(1000.0/plxval)-1.)\n",
    "mkb = ks - 5.0*(np.log10(1000.0/plxval)-1.)\n",
    "a, b, c, d, e = result1\n",
    "mass1 = a + b*(mka-7.5) + c*(mka-7.5)**2 + d*(mka-7.5)**3 + e*(mka-7.5)**4\n",
    "mass2 = a + b*(mkb-7.5) + c*(mkb-7.5)**2 + d*(mkb-7.5)**3 + e*(mkb-7.5)**4\n",
    "mka_err = 0.02## for now\n",
    "mkb_err = 0.02## for now\n",
    "mass1_err = np.sqrt((b*mka_err)**2+(2*c*mka_err*(mka-7.5))**2+(3*d*mka_err*(mka-7.5)**2)**2+\n",
    "                    (4*e*mka_err*(mka-7.5)**3)**2)\n",
    "mass2_err = np.sqrt((b*mkb_err)**2+(2*c*mkb_err*(mkb-7.5))**2+(3*d*mkb_err*(mkb-7.5)**2)**2+\n",
    "                   (4*e*mkb_err*(mkb-7.5)**3)**2)    \n",
    "model_err = np.sqrt(mass1_err**2+mass2_err**2)\n",
    "model = mass1+mass2\n",
    "\n",
    "mk1_tmp = mka[0] + mka_err*np.random.standard_normal(50000)#mka[0]+mka_err[0]*\n",
    "mass1_tmp = a + b*(mk1_tmp-7.5) + c*(mk1_tmp-7.5)**2 + d*(mk1_tmp-7.5)**3 + e*(mk1_tmp-7.5)**4\n",
    "mk2_tmp = mkb[0] + mkb_err*np.random.standard_normal(50000)#mka[0]+mka_err[0]*\n",
    "mass2_tmp = a + b*(mk2_tmp-7.5) + c*(mk2_tmp-7.5)**2 + d*(mk2_tmp-7.5)**3 + e*(mk2_tmp-7.5)**4\n",
    "#print np.std(mass1_tmp+mass2_tmp),model_err[0]\n",
    "\n",
    "for i in range(0,len(empmass)):\n",
    "    print \"{:10s}\".format(name[i]), \\\n",
    "    \"{0:.3f}\".format(empmass[i]),\"{0:.3f}\".format(e_empmass[i]), \\\n",
    "    \"{0:.4f}\".format(model[i]),\"{0:.4f}\".format(model_err[i]),\"{0:.3f}\".format(100*model_err[i]/model[i]), \\\n",
    "    \"{0:.4f}\".format(mka[i]),\"{0:.4f}\".format(mkb[i]), \\\n",
    "    \"{0:.3f}\".format(ekp[i]),\"{0:.3f}\".format(eks[i]), \\\n",
    "    \"{0:.3f}\".format(mass1[i]),\"{0:.3f}\".format(mass2[i])\n",
    "    \n"
   ]
  },
  {
   "cell_type": "code",
   "execution_count": 5,
   "metadata": {
    "collapsed": true
   },
   "outputs": [],
   "source": [
    "def lnlike(theta, sma, per, esma, eper, kp, ks, ekp, eks):\n",
    "    au = 1.496e13\n",
    "    msun = 1.989e33\n",
    "    g = 6.6743e-8 \n",
    "    a, b, c, d, e = theta[0:5]\n",
    "    mplx = theta[5:theta.size]\n",
    "    factor = ((4.0*np.pi**2.)/(g*msun))*(au*1000.0/mplx)**3\n",
    "    empmass = factor*(empsma**3./per**2.)\n",
    "    #e_empmass = empmass*np.sqrt(3.0*(esma/empsma)**2. + 2.0*(eper/per)**2.)\n",
    "    e_empmass = np.sqrt((esma*((12.0*np.pi**2*(empsma**2/per**2)/g)/msun))**2 + \n",
    "            (eper*(6.0*np.pi**2*empsma**3/per**3)/g/msun)**2)\n",
    "\n",
    "    mka = kp - 5.0*(np.log10(1000.0/mplx)-1.)\n",
    "    mkb = ks - 5.0*(np.log10(1000.0/mplx)-1.)\n",
    "    mass1 = a + b*(mka-7.5) + c*(mka-7.5)**2 + d*(mka-7.5)**3 + e*(mka-7.5)**4\n",
    "    mass2 = a + b*(mkb-7.5) + c*(mkb-7.5)**2 + d*(mkb-7.5)**3 + e*(mkb-7.5)**4\n",
    "    mka_err = ekp\n",
    "    mkb_err = eks\n",
    "    mass1_err = np.sqrt((b*mka_err)**2+(2*c*mka_err*(mka-7.5))**2+(3*d*mka_err*(mka-7.5)**2)**2+\n",
    "                       (4*e*mka_err*(mka-7.5)**3)**2)\n",
    "    mass2_err = np.sqrt((b*mkb_err)**2+(2*c*mkb_err*(mkb-7.5))**2+(3*d*mkb_err*(mkb-7.5)**2)**2+\n",
    "                       (4*e*mkb_err*(mkb-7.5)**3)**2)    \n",
    "    model_err = np.sqrt(mass1_err**2+mass2_err**2)\n",
    "    #print model_err[0],e_empmass[0],mka[0],mkb[0]\n",
    "    if np.min(mass1) <= 0:\n",
    "        return -np.inf\n",
    "    if np.min(mass2) <= 0:\n",
    "        return -np.inf\n",
    "    model = mass1+mass2\n",
    "    inv_sigma2 = 1.0/np.sqrt(e_empmass**2+model_err**2)\n",
    "    #print empmass[0],model[0],e_empmass[0],inv_sigma2[0]\n",
    "    return -0.5*(np.sum((empmass-model)**2*inv_sigma2 - np.log(inv_sigma2)))"
   ]
  },
  {
   "cell_type": "code",
   "execution_count": 6,
   "metadata": {
    "collapsed": true
   },
   "outputs": [],
   "source": [
    "def lnprior(theta, plxval, plxprior):\n",
    "    mplx = theta[5:theta.size]\n",
    "    lp = 0\n",
    "    if np.min(mplx) <= 0:\n",
    "        return -np.inf\n",
    "    for i in range(0,len(mplx)):\n",
    "        lp += ((np.float(mplx[i])-np.float(plxval[i]))**2)/(np.float(plxprior[i])**2)\n",
    "    lp*=(-0.5)\n",
    "    if not np.isfinite(lp):\n",
    "        return 0.0\n",
    "    return lp"
   ]
  },
  {
   "cell_type": "code",
   "execution_count": 7,
   "metadata": {
    "collapsed": true
   },
   "outputs": [],
   "source": [
    "def lnprob(theta, plxval, plxprior, sma, per, esma, eper, kp, ks, ekp, eks):\n",
    "    lp = lnprior(theta, plxval, plxprior)\n",
    "    if not np.isfinite(lp):\n",
    "        return -np.inf\n",
    "    like = lnlike(theta, sma, per, esma, eper, kp, ks, ekp, eks)\n",
    "    val = lp + like\n",
    "    return val"
   ]
  },
  {
   "cell_type": "code",
   "execution_count": 8,
   "metadata": {
    "collapsed": false
   },
   "outputs": [
    {
     "name": "stderr",
     "output_type": "stream",
     "text": [
      "/Users/andrewmann/anaconda/lib/python2.7/site-packages/emcee/ensemble.py:335: RuntimeWarning: invalid value encountered in subtract\n",
      "  lnpdiff = (self.dim - 1.) * np.log(zz) + newlnprob - lnprob0\n",
      "/Users/andrewmann/anaconda/lib/python2.7/site-packages/emcee/ensemble.py:336: RuntimeWarning: invalid value encountered in greater\n",
      "  accept = (lnpdiff > np.log(self._random.rand(len(lnpdiff))))\n"
     ]
    }
   ],
   "source": [
    "ndim, nwalkers = result.size, 100\n",
    "pos = [result + 1e-2*np.random.randn(ndim) for i in range(nwalkers)]\n",
    "sampler = emcee.EnsembleSampler(nwalkers, ndim, lnprob, \n",
    "                                args=(plxval, plxprior, sma, per, esma, eper, kp, ks, ekp, eks),\n",
    "                               threads=3)\n",
    "## burn-in and/or testing\n",
    "pos, prob, state = sampler.run_mcmc(pos, 5000)\n",
    "sampler.reset()"
   ]
  },
  {
   "cell_type": "code",
   "execution_count": 9,
   "metadata": {
    "collapsed": false
   },
   "outputs": [
    {
     "name": "stdout",
     "output_type": "stream",
     "text": [
      " 5.0%\n",
      "10.0%\n",
      "15.0%\n",
      "20.0%\n",
      "25.0%\n",
      "30.0%\n",
      "35.0%\n",
      "40.0%\n",
      "45.0%\n",
      "50.0%\n",
      "55.0%\n",
      "60.0%\n",
      "65.0%\n",
      "70.0%\n",
      "75.0%\n",
      "80.0%\n",
      "85.0%\n",
      "90.0%\n",
      "95.0%\n",
      "100.0%\n"
     ]
    }
   ],
   "source": [
    "nsteps = 100000\n",
    "for i, result in enumerate(sampler.sample(pos, iterations=nsteps)):\n",
    "    if (i+1) % 5000 == 0:\n",
    "        print(\"{0:5.1%}\".format(float(i) / nsteps))"
   ]
  },
  {
   "cell_type": "code",
   "execution_count": 10,
   "metadata": {
    "collapsed": false
   },
   "outputs": [
    {
     "name": "stdout",
     "output_type": "stream",
     "text": [
      "GJ1005     4028.9504 5670.0626 0.3000 166.6000 -12874.5013 -0.6812\n",
      "GJ22       162.6010 4.1843 0.6000 99.2000 -105.6683 -14.9988\n",
      "GJ65       134.9047 20.9293 2.7000 373.7000 88.4427 11.3159\n",
      "GJ1081     149.4598 3.6859 0.4000 65.2000 -210.6494 -22.7266\n",
      "GJ234      10776.1959 33649.7932 0.4000 241.0000 -26337.9897 -0.3131\n",
      "G250-029   163.7679 15.2557 0.3000 95.6000 -227.2264 -4.4675\n",
      "G193-027   113.9831 5.3079 1.4000 112.6000 -0.9879 -0.2520\n",
      "GJ469      143.2732 9.2613 0.5000 76.4000 -133.7465 -7.2102\n",
      "GJ473      1156.6809 496.3414 2.9000 235.5000 -317.6486 -1.8559\n",
      "GJ623      151.6066 8.8029 0.3000 125.0000 -88.6886 -3.0207\n",
      "GJ748      11402.1906 3986.0807 0.3000 98.4000 -37679.3019 -2.8358\n",
      "GJ1245     125.9324 7.7097 0.5000 219.9000 187.9351 12.1627\n",
      "GJ791.2    114.0891 4.1750 0.2000 113.4000 -3.4456 -0.1649\n",
      "GJ831      1404.9666 1054.1460 0.3000 125.3000 -4265.5553 -1.2139\n",
      "Gl747      179.2137 26.7757 2.5000 122.3000 -22.7655 -2.1164\n",
      "GJ2005     100.9592 2.6237 1.5000 128.4900 18.3539 9.1095\n"
     ]
    }
   ],
   "source": [
    "dat = sampler.chain\n",
    "prob = sampler.lnprobability\n",
    "accept = sampler.acceptance_fraction\n",
    "arr = dat.reshape((dat.shape)[0]*(dat.shape)[1],dat.shape[2])\n",
    "for i in range(5,dat.shape[2]):\n",
    "    print \"{:10s}\".format(name[i-5]), \\\n",
    "    \"{0:.4f}\".format(np.median(arr[:,i])),\"{0:.4f}\".format(np.std(arr[:,i])),\"{0:.4f}\".format(plxprior[i-5]), \\\n",
    "    \"{0:.4f}\".format(plxval[i-5]),\"{0:.4f}\".format((plxval[i-5]-np.median(arr[:,i]))/plxprior[i-5]), \\\n",
    "    \"{0:.4f}\".format((plxval[i-5]-np.median(arr[:,i]))/np.sqrt(plxprior[i-5]**2+np.std(arr[:,i])**2))\n",
    "    "
   ]
  },
  {
   "cell_type": "code",
   "execution_count": 11,
   "metadata": {
    "collapsed": true
   },
   "outputs": [],
   "source": [
    "sma_au = sma*au*(1000/plxval)\n",
    "mass = (4.*(pi**2.))*((sma_au**3./per**2.)/g)/msun\n",
    "\n",
    "mka = kp - 5.0*(np.log10(1000.0/plxval)-1.)\n",
    "mkb = ks - 5.0*(np.log10(1000.0/plxval)-1.)\n",
    "\n",
    "a = np.median(arr[:,0])\n",
    "b = np.median(arr[:,1])\n",
    "c = np.median(arr[:,2])\n",
    "d = np.median(arr[:,3])\n",
    "e = np.median(arr[:,4])\n",
    "mass1 = a + b*(mka-7.5) + c*(mka-7.5)**2 + d*(mka-7.5)**3 + e*(mka-7.5)**4\n",
    "mass2 = a + b*(mkb-7.5) + c*(mkb-7.5)**2 + d*(mkb-7.5)**3 + e*(mkb-7.5)**4\n",
    "sysmass = mass1+mass2\n",
    "a, b, c, d, e = result1\n",
    "mass1 = a + b*(mka-7.5) + c*(mka-7.5)**2 + d*(mka-7.5)**3 + e*(mka-7.5)**4\n",
    "mass2 = a + b*(mkb-7.5) + c*(mkb-7.5)**2 + d*(mkb-7.5)**3 + e*(mkb-7.5)**4\n",
    "sysmass_ben = mass1+mass2"
   ]
  },
  {
   "cell_type": "code",
   "execution_count": 12,
   "metadata": {
    "collapsed": false
   },
   "outputs": [
    {
     "data": {
      "text/plain": [
       "[<matplotlib.lines.Line2D at 0x103d01d90>]"
      ]
     },
     "execution_count": 12,
     "metadata": {},
     "output_type": "execute_result"
    },
    {
     "data": {
      "image/png": "[encoded data removed]",
      "text/plain": [
       "<matplotlib.figure.Figure at 0x10f4fc710>"
      ]
     },
     "metadata": {},
     "output_type": "display_data"
    }
   ],
   "source": [
    "import matplotlib.pyplot as plt\n",
    "\n",
    "rng = [np.min(np.concatenate([sysmass,sysmass_ben,mass])),\n",
    "         np.max(np.concatenate([sysmass,sysmass_ben,mass]))]\n",
    "plt.figure()\n",
    "plt.plot(sysmass,mass,'ro')\n",
    "plt.ylabel('Orbital Mass')\n",
    "plt.xlabel('Predicted')\n",
    "plt.plot(sysmass_ben,mass,'ro',color='b')\n",
    "plt.plot(rng,rng)"
   ]
  },
  {
   "cell_type": "code",
   "execution_count": 21,
   "metadata": {
    "collapsed": false
   },
   "outputs": [
    {
     "name": "stdout",
     "output_type": "stream",
     "text": [
      "(10000000,) (10000000,)\n"
     ]
    },
    {
     "data": {
      "image/png": "[encoded data removed]",
      "text/plain": [
       "<matplotlib.figure.Figure at 0x103f54910>"
      ]
     },
     "metadata": {},
     "output_type": "display_data"
    }
   ],
   "source": [
    "#num = 7\n",
    "#plt.plot(dat[2,:,num])\n",
    "#print np.median(arr[:,num]),plxval[num-5]\n",
    "newprob = prob.reshape((prob.shape)[0]*(dat.shape)[1])\n",
    "print newprob.shape,arr[:,0].shape\n",
    "n, bins, patches = plt.hist(newprob[np.isfinite(newprob)], 50, range=[10,45],normed=1, facecolor='green', alpha=0.75)\n",
    "plt.show()"
   ]
  },
  {
   "cell_type": "code",
   "execution_count": 25,
   "metadata": {
    "collapsed": false
   },
   "outputs": [
    {
     "name": "stdout",
     "output_type": "stream",
     "text": [
      "0.233474154482 -0.0954944219913 0.00994441961173 -0.00253920815533 0.00165951681154\n",
      "[6.1921355904651003, 9.9609728630480259]\n"
     ]
    },
    {
     "data": {
      "image/png": "[encoded data removed]",
      "text/plain": [
       "<matplotlib.figure.Figure at 0x122464d10>"
      ]
     },
     "metadata": {},
     "output_type": "display_data"
    }
   ],
   "source": [
    "a = np.median(arr[np.isfinite(newprob),0])\n",
    "b = np.median(arr[np.isfinite(newprob),1])\n",
    "c = np.median(arr[np.isfinite(newprob),2])\n",
    "d = np.median(arr[np.isfinite(newprob),3])\n",
    "e = np.median(arr[np.isfinite(newprob),4])\n",
    "print np.median(a),np.median(b),np.median(c),np.median(d),np.median(e)\n",
    "\n",
    "rng = [np.min(np.concatenate([mka,mkb])),np.max(np.concatenate([mka,mkb]))]\n",
    "print rng\n",
    "mk = np.linspace(rng[0],rng[1],100)\n",
    "mass1 = a + b*(mk-7.5) + c*(mk-7.5)**2 + d*(mk-7.5)**3 + e*(mk-7.5)**4 ## new fit\n",
    "a, b, c, d, e = result1\n",
    "mass2 = a + b*(mk-7.5) + c*(mk-7.5)**2 + d*(mk-7.5)**3 + e*(mk-7.5)**4\n",
    "\n",
    "mass3 = 0.585825902+3.87151019e-1*mk-1.21729937e-1*mk**2.+1.05529583e-2*mk**3.-2.72615872e-4*mk**4.\n",
    "\n",
    "## red = new fit\n",
    "## blue = Benedict\n",
    "## green = How to constrain your M dwarf\n",
    "plt.plot(mk,mass1,color='r')\n",
    "plt.plot(mk,mass2,color='b')\n",
    "plt.plot(mk,mass3,color='g')\n",
    "\n",
    "\n",
    "for i in range(0,60):\n",
    "    index = np.random.randint(len(arr[:,0]))\n",
    "    if np.isfinite(newprob[index]):\n",
    "        a, b, c, d, e = arr[index,0:5]\n",
    "        mass = a + b*(mk-7.5) + c*(mk-7.5)**2 + d*(mk-7.5)**3 + e*(mk-7.5)**4\n",
    "        plt.plot(mk,mass,color='r',lw=2,alpha=0.1)\n",
    "#    pl.plot(xl, m*xl+b, color=\"k\", alpha=0.1)\n",
    "#pl.plot(xl, m_true*xl+b_true, color=\"r\", lw=2, alpha=0.8)\n",
    "#pl.errorbar(x, y, yerr=yerr, fmt=\".k\")\n",
    "\n",
    "plt.plot(mk,mass1,color='r')\n",
    "plt.plot(mk,mass2,color='b')\n",
    "plt.plot(mk,mass3,color='g')\n",
    "\n",
    "plt.show()\n"
   ]
  },
  {
   "cell_type": "code",
   "execution_count": null,
   "metadata": {
    "collapsed": true
   },
   "outputs": [],
   "source": []
  }
 ],
 "metadata": {
  "anaconda-cloud": {},
  "kernelspec": {
   "display_name": "Python [Root]",
   "language": "python",
   "name": "Python [Root]"
  },
  "language_info": {
   "codemirror_mode": {
    "name": "ipython",
    "version": 2
   },
   "file_extension": ".py",
   "mimetype": "text/x-python",
   "name": "python",
   "nbconvert_exporter": "python",
   "pygments_lexer": "ipython2",
   "version": "2.7.12"
  }
 },
 "nbformat": 4,
 "nbformat_minor": 1
}
